{
 "cells": [
  {
   "cell_type": "code",
   "execution_count": 1,
   "id": "7442d2db",
   "metadata": {},
   "outputs": [],
   "source": [
    "import pandas as pd\n",
    "import numpy as np"
   ]
  },
  {
   "cell_type": "code",
   "execution_count": 2,
   "id": "21bab003",
   "metadata": {},
   "outputs": [],
   "source": [
    "data = pd.read_csv('Corona_Updated.csv')"
   ]
  },
  {
   "cell_type": "code",
   "execution_count": 3,
   "id": "802875a0",
   "metadata": {},
   "outputs": [
    {
     "data": {
      "text/html": [
       "<div>\n",
       "<style scoped>\n",
       "    .dataframe tbody tr th:only-of-type {\n",
       "        vertical-align: middle;\n",
       "    }\n",
       "\n",
       "    .dataframe tbody tr th {\n",
       "        vertical-align: top;\n",
       "    }\n",
       "\n",
       "    .dataframe thead th {\n",
       "        text-align: right;\n",
       "    }\n",
       "</style>\n",
       "<table border=\"1\" class=\"dataframe\">\n",
       "  <thead>\n",
       "    <tr style=\"text-align: right;\">\n",
       "      <th></th>\n",
       "      <th>Province/State</th>\n",
       "      <th>Country/Region</th>\n",
       "      <th>Last Update</th>\n",
       "      <th>Confirmed</th>\n",
       "      <th>Deaths</th>\n",
       "      <th>Recovered</th>\n",
       "      <th>Latitude</th>\n",
       "      <th>Longitude</th>\n",
       "      <th>Temprature</th>\n",
       "      <th>Humidity</th>\n",
       "      <th>Temp_Cat</th>\n",
       "      <th>Humid_Cat</th>\n",
       "    </tr>\n",
       "  </thead>\n",
       "  <tbody>\n",
       "    <tr>\n",
       "      <th>0</th>\n",
       "      <td>Hubei</td>\n",
       "      <td>Mainland China</td>\n",
       "      <td>2020-03-10T15:13:05</td>\n",
       "      <td>67760</td>\n",
       "      <td>3024</td>\n",
       "      <td>47743</td>\n",
       "      <td>30.9756</td>\n",
       "      <td>112.2707</td>\n",
       "      <td>12.5</td>\n",
       "      <td>86</td>\n",
       "      <td>1</td>\n",
       "      <td>1</td>\n",
       "    </tr>\n",
       "    <tr>\n",
       "      <th>1</th>\n",
       "      <td>NaN</td>\n",
       "      <td>Italy</td>\n",
       "      <td>2020-03-10T17:53:02</td>\n",
       "      <td>10149</td>\n",
       "      <td>631</td>\n",
       "      <td>724</td>\n",
       "      <td>43.0000</td>\n",
       "      <td>12.0000</td>\n",
       "      <td>12.9</td>\n",
       "      <td>64</td>\n",
       "      <td>1</td>\n",
       "      <td>1</td>\n",
       "    </tr>\n",
       "    <tr>\n",
       "      <th>2</th>\n",
       "      <td>NaN</td>\n",
       "      <td>Iran (Islamic Republic of)</td>\n",
       "      <td>2020-03-10T19:13:20</td>\n",
       "      <td>8042</td>\n",
       "      <td>291</td>\n",
       "      <td>2731</td>\n",
       "      <td>32.0000</td>\n",
       "      <td>53.0000</td>\n",
       "      <td>11.9</td>\n",
       "      <td>9</td>\n",
       "      <td>0</td>\n",
       "      <td>0</td>\n",
       "    </tr>\n",
       "    <tr>\n",
       "      <th>3</th>\n",
       "      <td>NaN</td>\n",
       "      <td>Republic of Korea</td>\n",
       "      <td>2020-03-10T19:13:20</td>\n",
       "      <td>7513</td>\n",
       "      <td>54</td>\n",
       "      <td>247</td>\n",
       "      <td>36.0000</td>\n",
       "      <td>128.0000</td>\n",
       "      <td>4.9</td>\n",
       "      <td>41</td>\n",
       "      <td>0</td>\n",
       "      <td>0</td>\n",
       "    </tr>\n",
       "    <tr>\n",
       "      <th>4</th>\n",
       "      <td>NaN</td>\n",
       "      <td>France</td>\n",
       "      <td>2020-03-10T18:53:02</td>\n",
       "      <td>1784</td>\n",
       "      <td>33</td>\n",
       "      <td>12</td>\n",
       "      <td>47.0000</td>\n",
       "      <td>2.0000</td>\n",
       "      <td>11.9</td>\n",
       "      <td>93</td>\n",
       "      <td>0</td>\n",
       "      <td>0</td>\n",
       "    </tr>\n",
       "  </tbody>\n",
       "</table>\n",
       "</div>"
      ],
      "text/plain": [
       "  Province/State              Country/Region          Last Update  Confirmed  \\\n",
       "0          Hubei              Mainland China  2020-03-10T15:13:05      67760   \n",
       "1            NaN                       Italy  2020-03-10T17:53:02      10149   \n",
       "2            NaN  Iran (Islamic Republic of)  2020-03-10T19:13:20       8042   \n",
       "3            NaN           Republic of Korea  2020-03-10T19:13:20       7513   \n",
       "4            NaN                      France  2020-03-10T18:53:02       1784   \n",
       "\n",
       "   Deaths  Recovered  Latitude  Longitude  Temprature  Humidity  Temp_Cat  \\\n",
       "0    3024      47743   30.9756   112.2707        12.5        86         1   \n",
       "1     631        724   43.0000    12.0000        12.9        64         1   \n",
       "2     291       2731   32.0000    53.0000        11.9         9         0   \n",
       "3      54        247   36.0000   128.0000         4.9        41         0   \n",
       "4      33         12   47.0000     2.0000        11.9        93         0   \n",
       "\n",
       "   Humid_Cat  \n",
       "0          1  \n",
       "1          1  \n",
       "2          0  \n",
       "3          0  \n",
       "4          0  "
      ]
     },
     "execution_count": 3,
     "metadata": {},
     "output_type": "execute_result"
    }
   ],
   "source": [
    "data.head()"
   ]
  },
  {
   "cell_type": "code",
   "execution_count": 9,
   "id": "1cf3b588",
   "metadata": {},
   "outputs": [],
   "source": [
    "data['Temp_Cat'] = data['Temprature'].apply(lambda x: 0 if x < 24 else 1)"
   ]
  },
  {
   "cell_type": "code",
   "execution_count": 10,
   "id": "45d43eeb",
   "metadata": {},
   "outputs": [
    {
     "data": {
      "text/plain": [
       "count    206.000000\n",
       "mean       0.150485\n",
       "std        0.358418\n",
       "min        0.000000\n",
       "25%        0.000000\n",
       "50%        0.000000\n",
       "75%        0.000000\n",
       "max        1.000000\n",
       "Name: Temp_Cat, dtype: float64"
      ]
     },
     "execution_count": 10,
     "metadata": {},
     "output_type": "execute_result"
    }
   ],
   "source": [
    "data['Temp_Cat'].describe()"
   ]
  },
  {
   "cell_type": "code",
   "execution_count": 13,
   "id": "823586b8",
   "metadata": {},
   "outputs": [],
   "source": [
    "DA = data[data['Temp_Cat'] == 1 ]['Confirmed']\n",
    "DB = data[data['Temp_Cat'] == 0 ]['Confirmed']"
   ]
  },
  {
   "cell_type": "code",
   "execution_count": 14,
   "id": "56768197",
   "metadata": {},
   "outputs": [],
   "source": [
    "MA = DA.mean()\n",
    "MB = DB.mean()"
   ]
  },
  {
   "cell_type": "code",
   "execution_count": 15,
   "id": "2610f28d",
   "metadata": {},
   "outputs": [],
   "source": [
    "SA = DA.std()\n",
    "SB = DB.std()"
   ]
  },
  {
   "cell_type": "code",
   "execution_count": 16,
   "id": "1bc65249",
   "metadata": {},
   "outputs": [],
   "source": [
    "nA = len(DA)\n",
    "nB = len(DB)"
   ]
  },
  {
   "cell_type": "code",
   "execution_count": 19,
   "id": "c66bfa23",
   "metadata": {},
   "outputs": [],
   "source": [
    "from numpy import sqrt, abs, round\n",
    "from scipy.stats import norm"
   ]
  },
  {
   "cell_type": "code",
   "execution_count": 20,
   "id": "2fe4482a",
   "metadata": {},
   "outputs": [],
   "source": [
    "d = ((SA ** 2) / nA) + ((SB ** 2) / nB) "
   ]
  },
  {
   "cell_type": "code",
   "execution_count": 21,
   "id": "e331474d",
   "metadata": {},
   "outputs": [],
   "source": [
    "n = MA - MB"
   ]
  },
  {
   "cell_type": "code",
   "execution_count": 23,
   "id": "0074f9ba",
   "metadata": {},
   "outputs": [
    {
     "data": {
      "text/plain": [
       "-0.00413568834366393"
      ]
     },
     "execution_count": 23,
     "metadata": {},
     "output_type": "execute_result"
    }
   ],
   "source": [
    "Z = n / d\n",
    "Z"
   ]
  },
  {
   "cell_type": "code",
   "execution_count": 24,
   "id": "6010ba87",
   "metadata": {},
   "outputs": [
    {
     "ename": "SyntaxError",
     "evalue": "cannot assign to operator (1270658673.py, line 1)",
     "output_type": "error",
     "traceback": [
      "\u001b[1;36m  Input \u001b[1;32mIn [24]\u001b[1;36m\u001b[0m\n\u001b[1;33m    P-Value = 2 * (1 - norm.cdf(abs(Z)))\u001b[0m\n\u001b[1;37m    ^\u001b[0m\n\u001b[1;31mSyntaxError\u001b[0m\u001b[1;31m:\u001b[0m cannot assign to operator\n"
     ]
    }
   ],
   "source": [
    "P-Value = 2 * (1 - norm.cdf(abs(Z)))"
   ]
  }
 ],
 "metadata": {
  "kernelspec": {
   "display_name": "Python 3 (ipykernel)",
   "language": "python",
   "name": "python3"
  },
  "language_info": {
   "codemirror_mode": {
    "name": "ipython",
    "version": 3
   },
   "file_extension": ".py",
   "mimetype": "text/x-python",
   "name": "python",
   "nbconvert_exporter": "python",
   "pygments_lexer": "ipython3",
   "version": "3.9.12"
  }
 },
 "nbformat": 4,
 "nbformat_minor": 5
}
