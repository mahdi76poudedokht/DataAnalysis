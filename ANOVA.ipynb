{
 "cells": [
  {
   "cell_type": "code",
   "execution_count": 1,
   "id": "6e9707d4",
   "metadata": {},
   "outputs": [],
   "source": [
    "import pandas as pd"
   ]
  },
  {
   "cell_type": "code",
   "execution_count": 2,
   "id": "7903950b",
   "metadata": {},
   "outputs": [],
   "source": [
    "data = pd.read_csv('3campain.csv')"
   ]
  },
  {
   "cell_type": "code",
   "execution_count": 3,
   "id": "d6510d06",
   "metadata": {},
   "outputs": [
    {
     "data": {
      "text/html": [
       "<div>\n",
       "<style scoped>\n",
       "    .dataframe tbody tr th:only-of-type {\n",
       "        vertical-align: middle;\n",
       "    }\n",
       "\n",
       "    .dataframe tbody tr th {\n",
       "        vertical-align: top;\n",
       "    }\n",
       "\n",
       "    .dataframe thead th {\n",
       "        text-align: right;\n",
       "    }\n",
       "</style>\n",
       "<table border=\"1\" class=\"dataframe\">\n",
       "  <thead>\n",
       "    <tr style=\"text-align: right;\">\n",
       "      <th></th>\n",
       "      <th>Campain</th>\n",
       "      <th>Sell</th>\n",
       "    </tr>\n",
       "  </thead>\n",
       "  <tbody>\n",
       "    <tr>\n",
       "      <th>0</th>\n",
       "      <td>A</td>\n",
       "      <td>12.6</td>\n",
       "    </tr>\n",
       "    <tr>\n",
       "      <th>1</th>\n",
       "      <td>A</td>\n",
       "      <td>12.0</td>\n",
       "    </tr>\n",
       "    <tr>\n",
       "      <th>2</th>\n",
       "      <td>A</td>\n",
       "      <td>11.8</td>\n",
       "    </tr>\n",
       "    <tr>\n",
       "      <th>3</th>\n",
       "      <td>A</td>\n",
       "      <td>11.9</td>\n",
       "    </tr>\n",
       "    <tr>\n",
       "      <th>4</th>\n",
       "      <td>A</td>\n",
       "      <td>13.0</td>\n",
       "    </tr>\n",
       "    <tr>\n",
       "      <th>5</th>\n",
       "      <td>A</td>\n",
       "      <td>12.5</td>\n",
       "    </tr>\n",
       "    <tr>\n",
       "      <th>6</th>\n",
       "      <td>A</td>\n",
       "      <td>14.0</td>\n",
       "    </tr>\n",
       "    <tr>\n",
       "      <th>7</th>\n",
       "      <td>B</td>\n",
       "      <td>10.0</td>\n",
       "    </tr>\n",
       "    <tr>\n",
       "      <th>8</th>\n",
       "      <td>B</td>\n",
       "      <td>10.2</td>\n",
       "    </tr>\n",
       "    <tr>\n",
       "      <th>9</th>\n",
       "      <td>B</td>\n",
       "      <td>10.0</td>\n",
       "    </tr>\n",
       "    <tr>\n",
       "      <th>10</th>\n",
       "      <td>B</td>\n",
       "      <td>12.0</td>\n",
       "    </tr>\n",
       "    <tr>\n",
       "      <th>11</th>\n",
       "      <td>B</td>\n",
       "      <td>14.0</td>\n",
       "    </tr>\n",
       "    <tr>\n",
       "      <th>12</th>\n",
       "      <td>B</td>\n",
       "      <td>13.0</td>\n",
       "    </tr>\n",
       "    <tr>\n",
       "      <th>13</th>\n",
       "      <td>C</td>\n",
       "      <td>10.1</td>\n",
       "    </tr>\n",
       "    <tr>\n",
       "      <th>14</th>\n",
       "      <td>C</td>\n",
       "      <td>13.0</td>\n",
       "    </tr>\n",
       "    <tr>\n",
       "      <th>15</th>\n",
       "      <td>C</td>\n",
       "      <td>13.4</td>\n",
       "    </tr>\n",
       "    <tr>\n",
       "      <th>16</th>\n",
       "      <td>C</td>\n",
       "      <td>12.9</td>\n",
       "    </tr>\n",
       "    <tr>\n",
       "      <th>17</th>\n",
       "      <td>C</td>\n",
       "      <td>8.9</td>\n",
       "    </tr>\n",
       "    <tr>\n",
       "      <th>18</th>\n",
       "      <td>C</td>\n",
       "      <td>10.7</td>\n",
       "    </tr>\n",
       "    <tr>\n",
       "      <th>19</th>\n",
       "      <td>C</td>\n",
       "      <td>13.6</td>\n",
       "    </tr>\n",
       "    <tr>\n",
       "      <th>20</th>\n",
       "      <td>C</td>\n",
       "      <td>12.0</td>\n",
       "    </tr>\n",
       "  </tbody>\n",
       "</table>\n",
       "</div>"
      ],
      "text/plain": [
       "   Campain  Sell\n",
       "0        A  12.6\n",
       "1        A  12.0\n",
       "2        A  11.8\n",
       "3        A  11.9\n",
       "4        A  13.0\n",
       "5        A  12.5\n",
       "6        A  14.0\n",
       "7        B  10.0\n",
       "8        B  10.2\n",
       "9        B  10.0\n",
       "10       B  12.0\n",
       "11       B  14.0\n",
       "12       B  13.0\n",
       "13       C  10.1\n",
       "14       C  13.0\n",
       "15       C  13.4\n",
       "16       C  12.9\n",
       "17       C   8.9\n",
       "18       C  10.7\n",
       "19       C  13.6\n",
       "20       C  12.0"
      ]
     },
     "execution_count": 3,
     "metadata": {},
     "output_type": "execute_result"
    }
   ],
   "source": [
    "data"
   ]
  },
  {
   "cell_type": "code",
   "execution_count": 4,
   "id": "ede1eb2c",
   "metadata": {},
   "outputs": [],
   "source": [
    "data['Mean'] = data['Sell'].mean()"
   ]
  },
  {
   "cell_type": "code",
   "execution_count": 5,
   "id": "87eec36e",
   "metadata": {},
   "outputs": [
    {
     "data": {
      "text/plain": [
       "43.132380952380956"
      ]
     },
     "execution_count": 5,
     "metadata": {},
     "output_type": "execute_result"
    }
   ],
   "source": [
    "sum_sq = sum((data['Sell'] - data['Mean']) **2 )\n",
    "sum_sq"
   ]
  },
  {
   "cell_type": "code",
   "execution_count": 6,
   "id": "728a1f44",
   "metadata": {},
   "outputs": [],
   "source": [
    "from statsmodels.formula.api import ols\n",
    "import statsmodels.api as sm"
   ]
  },
  {
   "cell_type": "code",
   "execution_count": 7,
   "id": "a47fb3da",
   "metadata": {},
   "outputs": [],
   "source": [
    "result = ols('Sell ~ Campain', data= data).fit()"
   ]
  },
  {
   "cell_type": "code",
   "execution_count": 8,
   "id": "013133e6",
   "metadata": {},
   "outputs": [
    {
     "data": {
      "text/html": [
       "<div>\n",
       "<style scoped>\n",
       "    .dataframe tbody tr th:only-of-type {\n",
       "        vertical-align: middle;\n",
       "    }\n",
       "\n",
       "    .dataframe tbody tr th {\n",
       "        vertical-align: top;\n",
       "    }\n",
       "\n",
       "    .dataframe thead th {\n",
       "        text-align: right;\n",
       "    }\n",
       "</style>\n",
       "<table border=\"1\" class=\"dataframe\">\n",
       "  <thead>\n",
       "    <tr style=\"text-align: right;\">\n",
       "      <th></th>\n",
       "      <th>df</th>\n",
       "      <th>sum_sq</th>\n",
       "      <th>mean_sq</th>\n",
       "      <th>F</th>\n",
       "      <th>PR(&gt;F)</th>\n",
       "    </tr>\n",
       "  </thead>\n",
       "  <tbody>\n",
       "    <tr>\n",
       "      <th>Campain</th>\n",
       "      <td>2.0</td>\n",
       "      <td>3.606905</td>\n",
       "      <td>1.803452</td>\n",
       "      <td>0.821297</td>\n",
       "      <td>0.455683</td>\n",
       "    </tr>\n",
       "    <tr>\n",
       "      <th>Residual</th>\n",
       "      <td>18.0</td>\n",
       "      <td>39.525476</td>\n",
       "      <td>2.195860</td>\n",
       "      <td>NaN</td>\n",
       "      <td>NaN</td>\n",
       "    </tr>\n",
       "  </tbody>\n",
       "</table>\n",
       "</div>"
      ],
      "text/plain": [
       "            df     sum_sq   mean_sq         F    PR(>F)\n",
       "Campain    2.0   3.606905  1.803452  0.821297  0.455683\n",
       "Residual  18.0  39.525476  2.195860       NaN       NaN"
      ]
     },
     "execution_count": 8,
     "metadata": {},
     "output_type": "execute_result"
    }
   ],
   "source": [
    "sm.stats.anova_lm(result)"
   ]
  },
  {
   "cell_type": "code",
   "execution_count": 9,
   "id": "00d398cd",
   "metadata": {},
   "outputs": [],
   "source": [
    "gMean = data.groupby('Campain').mean()[['Sell']]"
   ]
  },
  {
   "cell_type": "code",
   "execution_count": 10,
   "id": "68d63cfc",
   "metadata": {},
   "outputs": [],
   "source": [
    "gMean = gMean.rename(columns={'Sell': 'gMean'})"
   ]
  },
  {
   "cell_type": "code",
   "execution_count": 11,
   "id": "c24ebd70",
   "metadata": {},
   "outputs": [],
   "source": [
    "data = data.merge(gMean, left_on= 'Campain', right_index= True)"
   ]
  },
  {
   "cell_type": "code",
   "execution_count": 12,
   "id": "f155fff1",
   "metadata": {},
   "outputs": [
    {
     "data": {
      "text/html": [
       "<div>\n",
       "<style scoped>\n",
       "    .dataframe tbody tr th:only-of-type {\n",
       "        vertical-align: middle;\n",
       "    }\n",
       "\n",
       "    .dataframe tbody tr th {\n",
       "        vertical-align: top;\n",
       "    }\n",
       "\n",
       "    .dataframe thead th {\n",
       "        text-align: right;\n",
       "    }\n",
       "</style>\n",
       "<table border=\"1\" class=\"dataframe\">\n",
       "  <thead>\n",
       "    <tr style=\"text-align: right;\">\n",
       "      <th></th>\n",
       "      <th>Campain</th>\n",
       "      <th>Sell</th>\n",
       "      <th>Mean</th>\n",
       "      <th>gMean</th>\n",
       "    </tr>\n",
       "  </thead>\n",
       "  <tbody>\n",
       "    <tr>\n",
       "      <th>0</th>\n",
       "      <td>A</td>\n",
       "      <td>12.6</td>\n",
       "      <td>11.980952</td>\n",
       "      <td>12.542857</td>\n",
       "    </tr>\n",
       "    <tr>\n",
       "      <th>1</th>\n",
       "      <td>A</td>\n",
       "      <td>12.0</td>\n",
       "      <td>11.980952</td>\n",
       "      <td>12.542857</td>\n",
       "    </tr>\n",
       "    <tr>\n",
       "      <th>2</th>\n",
       "      <td>A</td>\n",
       "      <td>11.8</td>\n",
       "      <td>11.980952</td>\n",
       "      <td>12.542857</td>\n",
       "    </tr>\n",
       "    <tr>\n",
       "      <th>3</th>\n",
       "      <td>A</td>\n",
       "      <td>11.9</td>\n",
       "      <td>11.980952</td>\n",
       "      <td>12.542857</td>\n",
       "    </tr>\n",
       "    <tr>\n",
       "      <th>4</th>\n",
       "      <td>A</td>\n",
       "      <td>13.0</td>\n",
       "      <td>11.980952</td>\n",
       "      <td>12.542857</td>\n",
       "    </tr>\n",
       "    <tr>\n",
       "      <th>5</th>\n",
       "      <td>A</td>\n",
       "      <td>12.5</td>\n",
       "      <td>11.980952</td>\n",
       "      <td>12.542857</td>\n",
       "    </tr>\n",
       "    <tr>\n",
       "      <th>6</th>\n",
       "      <td>A</td>\n",
       "      <td>14.0</td>\n",
       "      <td>11.980952</td>\n",
       "      <td>12.542857</td>\n",
       "    </tr>\n",
       "    <tr>\n",
       "      <th>7</th>\n",
       "      <td>B</td>\n",
       "      <td>10.0</td>\n",
       "      <td>11.980952</td>\n",
       "      <td>11.533333</td>\n",
       "    </tr>\n",
       "    <tr>\n",
       "      <th>8</th>\n",
       "      <td>B</td>\n",
       "      <td>10.2</td>\n",
       "      <td>11.980952</td>\n",
       "      <td>11.533333</td>\n",
       "    </tr>\n",
       "    <tr>\n",
       "      <th>9</th>\n",
       "      <td>B</td>\n",
       "      <td>10.0</td>\n",
       "      <td>11.980952</td>\n",
       "      <td>11.533333</td>\n",
       "    </tr>\n",
       "    <tr>\n",
       "      <th>10</th>\n",
       "      <td>B</td>\n",
       "      <td>12.0</td>\n",
       "      <td>11.980952</td>\n",
       "      <td>11.533333</td>\n",
       "    </tr>\n",
       "    <tr>\n",
       "      <th>11</th>\n",
       "      <td>B</td>\n",
       "      <td>14.0</td>\n",
       "      <td>11.980952</td>\n",
       "      <td>11.533333</td>\n",
       "    </tr>\n",
       "    <tr>\n",
       "      <th>12</th>\n",
       "      <td>B</td>\n",
       "      <td>13.0</td>\n",
       "      <td>11.980952</td>\n",
       "      <td>11.533333</td>\n",
       "    </tr>\n",
       "    <tr>\n",
       "      <th>13</th>\n",
       "      <td>C</td>\n",
       "      <td>10.1</td>\n",
       "      <td>11.980952</td>\n",
       "      <td>11.825000</td>\n",
       "    </tr>\n",
       "    <tr>\n",
       "      <th>14</th>\n",
       "      <td>C</td>\n",
       "      <td>13.0</td>\n",
       "      <td>11.980952</td>\n",
       "      <td>11.825000</td>\n",
       "    </tr>\n",
       "    <tr>\n",
       "      <th>15</th>\n",
       "      <td>C</td>\n",
       "      <td>13.4</td>\n",
       "      <td>11.980952</td>\n",
       "      <td>11.825000</td>\n",
       "    </tr>\n",
       "    <tr>\n",
       "      <th>16</th>\n",
       "      <td>C</td>\n",
       "      <td>12.9</td>\n",
       "      <td>11.980952</td>\n",
       "      <td>11.825000</td>\n",
       "    </tr>\n",
       "    <tr>\n",
       "      <th>17</th>\n",
       "      <td>C</td>\n",
       "      <td>8.9</td>\n",
       "      <td>11.980952</td>\n",
       "      <td>11.825000</td>\n",
       "    </tr>\n",
       "    <tr>\n",
       "      <th>18</th>\n",
       "      <td>C</td>\n",
       "      <td>10.7</td>\n",
       "      <td>11.980952</td>\n",
       "      <td>11.825000</td>\n",
       "    </tr>\n",
       "    <tr>\n",
       "      <th>19</th>\n",
       "      <td>C</td>\n",
       "      <td>13.6</td>\n",
       "      <td>11.980952</td>\n",
       "      <td>11.825000</td>\n",
       "    </tr>\n",
       "    <tr>\n",
       "      <th>20</th>\n",
       "      <td>C</td>\n",
       "      <td>12.0</td>\n",
       "      <td>11.980952</td>\n",
       "      <td>11.825000</td>\n",
       "    </tr>\n",
       "  </tbody>\n",
       "</table>\n",
       "</div>"
      ],
      "text/plain": [
       "   Campain  Sell       Mean      gMean\n",
       "0        A  12.6  11.980952  12.542857\n",
       "1        A  12.0  11.980952  12.542857\n",
       "2        A  11.8  11.980952  12.542857\n",
       "3        A  11.9  11.980952  12.542857\n",
       "4        A  13.0  11.980952  12.542857\n",
       "5        A  12.5  11.980952  12.542857\n",
       "6        A  14.0  11.980952  12.542857\n",
       "7        B  10.0  11.980952  11.533333\n",
       "8        B  10.2  11.980952  11.533333\n",
       "9        B  10.0  11.980952  11.533333\n",
       "10       B  12.0  11.980952  11.533333\n",
       "11       B  14.0  11.980952  11.533333\n",
       "12       B  13.0  11.980952  11.533333\n",
       "13       C  10.1  11.980952  11.825000\n",
       "14       C  13.0  11.980952  11.825000\n",
       "15       C  13.4  11.980952  11.825000\n",
       "16       C  12.9  11.980952  11.825000\n",
       "17       C   8.9  11.980952  11.825000\n",
       "18       C  10.7  11.980952  11.825000\n",
       "19       C  13.6  11.980952  11.825000\n",
       "20       C  12.0  11.980952  11.825000"
      ]
     },
     "execution_count": 12,
     "metadata": {},
     "output_type": "execute_result"
    }
   ],
   "source": [
    "data"
   ]
  },
  {
   "cell_type": "code",
   "execution_count": 13,
   "id": "87544738",
   "metadata": {},
   "outputs": [],
   "source": [
    "ss_r = sum((data['Sell'] - data['gMean']) ** 2)"
   ]
  },
  {
   "cell_type": "code",
   "execution_count": 14,
   "id": "53650165",
   "metadata": {},
   "outputs": [
    {
     "data": {
      "text/plain": [
       "39.52547619047619"
      ]
     },
     "execution_count": 14,
     "metadata": {},
     "output_type": "execute_result"
    }
   ],
   "source": [
    "ss_r"
   ]
  },
  {
   "cell_type": "code",
   "execution_count": 16,
   "id": "fa553294",
   "metadata": {},
   "outputs": [
    {
     "data": {
      "text/plain": [
       "3.6069047619047634"
      ]
     },
     "execution_count": 16,
     "metadata": {},
     "output_type": "execute_result"
    }
   ],
   "source": [
    "ss_e = sum((data['Mean'] - data['gMean']) ** 2 )\n",
    "ss_e"
   ]
  },
  {
   "cell_type": "code",
   "execution_count": 19,
   "id": "7f2a830a",
   "metadata": {},
   "outputs": [
    {
     "data": {
      "text/plain": [
       "2.1958597883597886"
      ]
     },
     "execution_count": 19,
     "metadata": {},
     "output_type": "execute_result"
    }
   ],
   "source": [
    "ms_r = ss_r / 18 \n",
    "ms_r"
   ]
  },
  {
   "cell_type": "code",
   "execution_count": 21,
   "id": "4025b5b4",
   "metadata": {},
   "outputs": [
    {
     "data": {
      "text/plain": [
       "1.8034523809523817"
      ]
     },
     "execution_count": 21,
     "metadata": {},
     "output_type": "execute_result"
    }
   ],
   "source": [
    "ms_e = ss_e / 2\n",
    "ms_e"
   ]
  },
  {
   "cell_type": "code",
   "execution_count": 25,
   "id": "ec8c00df",
   "metadata": {},
   "outputs": [
    {
     "data": {
      "text/plain": [
       "0.8212966923081559"
      ]
     },
     "execution_count": 25,
     "metadata": {},
     "output_type": "execute_result"
    }
   ],
   "source": [
    "f = ms_e / ms_r\n",
    "f"
   ]
  },
  {
   "cell_type": "code",
   "execution_count": 26,
   "id": "47a465dc",
   "metadata": {},
   "outputs": [],
   "source": [
    "import scipy as st"
   ]
  },
  {
   "cell_type": "code",
   "execution_count": 33,
   "id": "682e6a11",
   "metadata": {},
   "outputs": [],
   "source": [
    "d = st.stats.f.rvs(2, 18, size= 1000)"
   ]
  },
  {
   "cell_type": "code",
   "execution_count": 28,
   "id": "ae885261",
   "metadata": {},
   "outputs": [],
   "source": [
    "import matplotlib.pyplot as plt"
   ]
  },
  {
   "cell_type": "code",
   "execution_count": 34,
   "id": "1e3fb9e2",
   "metadata": {},
   "outputs": [
    {
     "data": {
      "text/plain": [
       "(array([85., 97., 61., 77., 48., 57., 58., 42., 30., 46., 26., 27., 24.,\n",
       "        24., 28., 25., 12., 19., 16., 15., 17., 12.,  6., 15.,  8., 14.,\n",
       "         5.,  5.,  7.,  4., 10.,  9.,  4.,  8.,  8.,  3.,  2.,  0.,  2.,\n",
       "         4.,  2.,  1.,  0.,  3.,  1.,  5.,  1.,  0.,  2.,  3.,  3.,  1.,\n",
       "         1.,  1.,  0.,  0.,  3.,  1.,  0.,  2.,  0.,  0.,  0.,  0.,  1.,\n",
       "         0.,  0.,  1.,  0.,  0.,  2.,  0.,  1.,  0.,  0.,  0.,  0.,  0.,\n",
       "         1.,  0.,  0.,  0.,  0.,  0.,  1.,  1.,  0.,  0.,  1.,  0.,  0.,\n",
       "         0.,  0.,  0.,  0.,  0.,  0.,  0.,  0.,  1.]),\n",
       " array([8.01256398e-04, 9.97511071e-02, 1.98700958e-01, 2.97650808e-01,\n",
       "        3.96600659e-01, 4.95550510e-01, 5.94500360e-01, 6.93450211e-01,\n",
       "        7.92400062e-01, 8.91349912e-01, 9.90299763e-01, 1.08924961e+00,\n",
       "        1.18819946e+00, 1.28714931e+00, 1.38609917e+00, 1.48504902e+00,\n",
       "        1.58399887e+00, 1.68294872e+00, 1.78189857e+00, 1.88084842e+00,\n",
       "        1.97979827e+00, 2.07874812e+00, 2.17769797e+00, 2.27664782e+00,\n",
       "        2.37559767e+00, 2.47454752e+00, 2.57349737e+00, 2.67244722e+00,\n",
       "        2.77139707e+00, 2.87034693e+00, 2.96929678e+00, 3.06824663e+00,\n",
       "        3.16719648e+00, 3.26614633e+00, 3.36509618e+00, 3.46404603e+00,\n",
       "        3.56299588e+00, 3.66194573e+00, 3.76089558e+00, 3.85984543e+00,\n",
       "        3.95879528e+00, 4.05774513e+00, 4.15669498e+00, 4.25564483e+00,\n",
       "        4.35459469e+00, 4.45354454e+00, 4.55249439e+00, 4.65144424e+00,\n",
       "        4.75039409e+00, 4.84934394e+00, 4.94829379e+00, 5.04724364e+00,\n",
       "        5.14619349e+00, 5.24514334e+00, 5.34409319e+00, 5.44304304e+00,\n",
       "        5.54199289e+00, 5.64094274e+00, 5.73989259e+00, 5.83884244e+00,\n",
       "        5.93779230e+00, 6.03674215e+00, 6.13569200e+00, 6.23464185e+00,\n",
       "        6.33359170e+00, 6.43254155e+00, 6.53149140e+00, 6.63044125e+00,\n",
       "        6.72939110e+00, 6.82834095e+00, 6.92729080e+00, 7.02624065e+00,\n",
       "        7.12519050e+00, 7.22414035e+00, 7.32309020e+00, 7.42204006e+00,\n",
       "        7.52098991e+00, 7.61993976e+00, 7.71888961e+00, 7.81783946e+00,\n",
       "        7.91678931e+00, 8.01573916e+00, 8.11468901e+00, 8.21363886e+00,\n",
       "        8.31258871e+00, 8.41153856e+00, 8.51048841e+00, 8.60943826e+00,\n",
       "        8.70838811e+00, 8.80733796e+00, 8.90628782e+00, 9.00523767e+00,\n",
       "        9.10418752e+00, 9.20313737e+00, 9.30208722e+00, 9.40103707e+00,\n",
       "        9.49998692e+00, 9.59893677e+00, 9.69788662e+00, 9.79683647e+00,\n",
       "        9.89578632e+00]),\n",
       " <BarContainer object of 100 artists>)"
      ]
     },
     "execution_count": 34,
     "metadata": {},
     "output_type": "execute_result"
    },
    {
     "data": {
      "image/png": "[encoded data removed]",
      "text/plain": [
       "<Figure size 432x288 with 1 Axes>"
      ]
     },
     "metadata": {
      "needs_background": "light"
     },
     "output_type": "display_data"
    }
   ],
   "source": [
    "plt.hist(d, bins= 100)"
   ]
  }
 ],
 "metadata": {
  "kernelspec": {
   "display_name": "Python 3 (ipykernel)",
   "language": "python",
   "name": "python3"
  },
  "language_info": {
   "codemirror_mode": {
    "name": "ipython",
    "version": 3
   },
   "file_extension": ".py",
   "mimetype": "text/x-python",
   "name": "python",
   "nbconvert_exporter": "python",
   "pygments_lexer": "ipython3",
   "version": "3.9.12"
  }
 },
 "nbformat": 4,
 "nbformat_minor": 5
}
