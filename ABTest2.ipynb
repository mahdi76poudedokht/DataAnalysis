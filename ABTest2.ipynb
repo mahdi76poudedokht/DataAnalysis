{
 "cells": [
  {
   "cell_type": "code",
   "execution_count": 54,
   "id": "05d3b2ef",
   "metadata": {},
   "outputs": [],
   "source": [
    "import pandas as pd\n",
    "import numpy as np\n",
    "import matplotlib.pyplot as plt"
   ]
  },
  {
   "cell_type": "code",
   "execution_count": 55,
   "id": "a8cba04b",
   "metadata": {},
   "outputs": [],
   "source": [
    "du = pd.read_csv('ab_data.csv')"
   ]
  },
  {
   "cell_type": "code",
   "execution_count": 56,
   "id": "01be0b48",
   "metadata": {},
   "outputs": [
    {
     "data": {
      "text/html": [
       "<div>\n",
       "<style scoped>\n",
       "    .dataframe tbody tr th:only-of-type {\n",
       "        vertical-align: middle;\n",
       "    }\n",
       "\n",
       "    .dataframe tbody tr th {\n",
       "        vertical-align: top;\n",
       "    }\n",
       "\n",
       "    .dataframe thead th {\n",
       "        text-align: right;\n",
       "    }\n",
       "</style>\n",
       "<table border=\"1\" class=\"dataframe\">\n",
       "  <thead>\n",
       "    <tr style=\"text-align: right;\">\n",
       "      <th></th>\n",
       "      <th>user_id</th>\n",
       "      <th>timestamp</th>\n",
       "      <th>group</th>\n",
       "      <th>landing_page</th>\n",
       "      <th>converted</th>\n",
       "    </tr>\n",
       "  </thead>\n",
       "  <tbody>\n",
       "    <tr>\n",
       "      <th>0</th>\n",
       "      <td>851104</td>\n",
       "      <td>2017-01-21 22:11:48.556739</td>\n",
       "      <td>control</td>\n",
       "      <td>old_page</td>\n",
       "      <td>0</td>\n",
       "    </tr>\n",
       "    <tr>\n",
       "      <th>1</th>\n",
       "      <td>804228</td>\n",
       "      <td>2017-01-12 08:01:45.159739</td>\n",
       "      <td>control</td>\n",
       "      <td>old_page</td>\n",
       "      <td>0</td>\n",
       "    </tr>\n",
       "    <tr>\n",
       "      <th>2</th>\n",
       "      <td>661590</td>\n",
       "      <td>2017-01-11 16:55:06.154213</td>\n",
       "      <td>treatment</td>\n",
       "      <td>new_page</td>\n",
       "      <td>0</td>\n",
       "    </tr>\n",
       "    <tr>\n",
       "      <th>3</th>\n",
       "      <td>853541</td>\n",
       "      <td>2017-01-08 18:28:03.143765</td>\n",
       "      <td>treatment</td>\n",
       "      <td>new_page</td>\n",
       "      <td>0</td>\n",
       "    </tr>\n",
       "    <tr>\n",
       "      <th>4</th>\n",
       "      <td>864975</td>\n",
       "      <td>2017-01-21 01:52:26.210827</td>\n",
       "      <td>control</td>\n",
       "      <td>old_page</td>\n",
       "      <td>1</td>\n",
       "    </tr>\n",
       "  </tbody>\n",
       "</table>\n",
       "</div>"
      ],
      "text/plain": [
       "   user_id                   timestamp      group landing_page  converted\n",
       "0   851104  2017-01-21 22:11:48.556739    control     old_page          0\n",
       "1   804228  2017-01-12 08:01:45.159739    control     old_page          0\n",
       "2   661590  2017-01-11 16:55:06.154213  treatment     new_page          0\n",
       "3   853541  2017-01-08 18:28:03.143765  treatment     new_page          0\n",
       "4   864975  2017-01-21 01:52:26.210827    control     old_page          1"
      ]
     },
     "execution_count": 56,
     "metadata": {},
     "output_type": "execute_result"
    }
   ],
   "source": [
    "du.head()"
   ]
  },
  {
   "cell_type": "code",
   "execution_count": 57,
   "id": "928de2ac",
   "metadata": {},
   "outputs": [
    {
     "data": {
      "text/plain": [
       "user_id         290584\n",
       "timestamp       294478\n",
       "group                2\n",
       "landing_page         2\n",
       "converted            2\n",
       "dtype: int64"
      ]
     },
     "execution_count": 57,
     "metadata": {},
     "output_type": "execute_result"
    }
   ],
   "source": [
    "du.nunique()"
   ]
  },
  {
   "cell_type": "code",
   "execution_count": 58,
   "id": "2a937ae2",
   "metadata": {},
   "outputs": [
    {
     "data": {
      "text/plain": [
       "1928"
      ]
     },
     "execution_count": 58,
     "metadata": {},
     "output_type": "execute_result"
    }
   ],
   "source": [
    "du_old = du.query('group == \"control\" and landing_page != \"old_page\" ')\n",
    "len(du_old)"
   ]
  },
  {
   "cell_type": "code",
   "execution_count": 59,
   "id": "a173be90",
   "metadata": {},
   "outputs": [
    {
     "data": {
      "text/plain": [
       "1965"
      ]
     },
     "execution_count": 59,
     "metadata": {},
     "output_type": "execute_result"
    }
   ],
   "source": [
    "du_new = du.query('group == \"treatment\" and landing_page != \"new_page\" ')\n",
    "len(du_new)"
   ]
  },
  {
   "cell_type": "code",
   "execution_count": 60,
   "id": "50cdd14d",
   "metadata": {},
   "outputs": [
    {
     "data": {
      "text/plain": [
       "0.11965919355605512"
      ]
     },
     "execution_count": 60,
     "metadata": {},
     "output_type": "execute_result"
    }
   ],
   "source": [
    "du['converted'].mean()"
   ]
  },
  {
   "cell_type": "code",
   "execution_count": 61,
   "id": "c3053718",
   "metadata": {},
   "outputs": [
    {
     "data": {
      "text/plain": [
       "3893"
      ]
     },
     "execution_count": 61,
     "metadata": {},
     "output_type": "execute_result"
    }
   ],
   "source": [
    "du2 = du_old.merge(du_new, how='outer')\n",
    "len(du2)"
   ]
  },
  {
   "cell_type": "code",
   "execution_count": 62,
   "id": "bff0fe1c",
   "metadata": {},
   "outputs": [],
   "source": [
    "du_old2 = du.query('group == \"control\" and landing_page == \"old_page\" ')\n",
    "du_new2 = du.query('group == \"treatment\" and landing_page == \"new_page\" ')"
   ]
  },
  {
   "cell_type": "code",
   "execution_count": 63,
   "id": "0c6cdba0",
   "metadata": {},
   "outputs": [
    {
     "data": {
      "text/plain": [
       "290585"
      ]
     },
     "execution_count": 63,
     "metadata": {},
     "output_type": "execute_result"
    }
   ],
   "source": [
    "du2 = du_old2.merge(du_new2, how='outer')\n",
    "len(du2)"
   ]
  },
  {
   "cell_type": "code",
   "execution_count": 64,
   "id": "48af7428",
   "metadata": {},
   "outputs": [
    {
     "data": {
      "text/html": [
       "<div>\n",
       "<style scoped>\n",
       "    .dataframe tbody tr th:only-of-type {\n",
       "        vertical-align: middle;\n",
       "    }\n",
       "\n",
       "    .dataframe tbody tr th {\n",
       "        vertical-align: top;\n",
       "    }\n",
       "\n",
       "    .dataframe thead th {\n",
       "        text-align: right;\n",
       "    }\n",
       "</style>\n",
       "<table border=\"1\" class=\"dataframe\">\n",
       "  <thead>\n",
       "    <tr style=\"text-align: right;\">\n",
       "      <th></th>\n",
       "      <th>user_id</th>\n",
       "      <th>timestamp</th>\n",
       "      <th>group</th>\n",
       "      <th>landing_page</th>\n",
       "      <th>converted</th>\n",
       "    </tr>\n",
       "  </thead>\n",
       "  <tbody>\n",
       "    <tr>\n",
       "      <th>0</th>\n",
       "      <td>851104</td>\n",
       "      <td>2017-01-21 22:11:48.556739</td>\n",
       "      <td>control</td>\n",
       "      <td>old_page</td>\n",
       "      <td>0</td>\n",
       "    </tr>\n",
       "    <tr>\n",
       "      <th>1</th>\n",
       "      <td>804228</td>\n",
       "      <td>2017-01-12 08:01:45.159739</td>\n",
       "      <td>control</td>\n",
       "      <td>old_page</td>\n",
       "      <td>0</td>\n",
       "    </tr>\n",
       "    <tr>\n",
       "      <th>2</th>\n",
       "      <td>864975</td>\n",
       "      <td>2017-01-21 01:52:26.210827</td>\n",
       "      <td>control</td>\n",
       "      <td>old_page</td>\n",
       "      <td>1</td>\n",
       "    </tr>\n",
       "    <tr>\n",
       "      <th>3</th>\n",
       "      <td>936923</td>\n",
       "      <td>2017-01-10 15:20:49.083499</td>\n",
       "      <td>control</td>\n",
       "      <td>old_page</td>\n",
       "      <td>0</td>\n",
       "    </tr>\n",
       "    <tr>\n",
       "      <th>4</th>\n",
       "      <td>719014</td>\n",
       "      <td>2017-01-17 01:48:29.539573</td>\n",
       "      <td>control</td>\n",
       "      <td>old_page</td>\n",
       "      <td>0</td>\n",
       "    </tr>\n",
       "  </tbody>\n",
       "</table>\n",
       "</div>"
      ],
      "text/plain": [
       "   user_id                   timestamp    group landing_page  converted\n",
       "0   851104  2017-01-21 22:11:48.556739  control     old_page          0\n",
       "1   804228  2017-01-12 08:01:45.159739  control     old_page          0\n",
       "2   864975  2017-01-21 01:52:26.210827  control     old_page          1\n",
       "3   936923  2017-01-10 15:20:49.083499  control     old_page          0\n",
       "4   719014  2017-01-17 01:48:29.539573  control     old_page          0"
      ]
     },
     "execution_count": 64,
     "metadata": {},
     "output_type": "execute_result"
    }
   ],
   "source": [
    "du2.head()"
   ]
  },
  {
   "cell_type": "code",
   "execution_count": 65,
   "id": "65f235c4",
   "metadata": {},
   "outputs": [
    {
     "data": {
      "text/plain": [
       "0         False\n",
       "1         False\n",
       "2         False\n",
       "3         False\n",
       "4         False\n",
       "          ...  \n",
       "290580    False\n",
       "290581    False\n",
       "290582    False\n",
       "290583    False\n",
       "290584    False\n",
       "Name: user_id, Length: 290585, dtype: bool"
      ]
     },
     "execution_count": 65,
     "metadata": {},
     "output_type": "execute_result"
    }
   ],
   "source": [
    "du2['user_id'].duplicated()"
   ]
  },
  {
   "cell_type": "code",
   "execution_count": 66,
   "id": "03ffe851",
   "metadata": {},
   "outputs": [
    {
     "data": {
      "text/plain": [
       "user_id         290584\n",
       "timestamp       290585\n",
       "group                2\n",
       "landing_page         2\n",
       "converted            2\n",
       "dtype: int64"
      ]
     },
     "execution_count": 66,
     "metadata": {},
     "output_type": "execute_result"
    }
   ],
   "source": [
    "du2.nunique()"
   ]
  },
  {
   "cell_type": "code",
   "execution_count": 67,
   "id": "c3147aa9",
   "metadata": {},
   "outputs": [],
   "source": [
    "new_p = du2.query('group == \"treatment\" and landing_page == \"new_page\"')\n",
    "old_p = du2.query('group == \"control\" and landing_page == \"old_page\"')"
   ]
  },
  {
   "cell_type": "code",
   "execution_count": 109,
   "id": "c1dee48a",
   "metadata": {},
   "outputs": [
    {
     "data": {
      "text/plain": [
       "145274"
      ]
     },
     "execution_count": 109,
     "metadata": {},
     "output_type": "execute_result"
    }
   ],
   "source": [
    "len(old_p)"
   ]
  },
  {
   "cell_type": "code",
   "execution_count": 68,
   "id": "f6cbc8a7",
   "metadata": {},
   "outputs": [
    {
     "data": {
      "text/plain": [
       "0.11880724790277405"
      ]
     },
     "execution_count": 68,
     "metadata": {},
     "output_type": "execute_result"
    }
   ],
   "source": [
    "new_p['converted'].mean()"
   ]
  },
  {
   "cell_type": "code",
   "execution_count": 69,
   "id": "6cb15126",
   "metadata": {},
   "outputs": [
    {
     "data": {
      "text/plain": [
       "0.1203863045004612"
      ]
     },
     "execution_count": 69,
     "metadata": {},
     "output_type": "execute_result"
    }
   ],
   "source": [
    "old_p['converted'].mean()"
   ]
  },
  {
   "cell_type": "code",
   "execution_count": 116,
   "id": "93b05f3b",
   "metadata": {},
   "outputs": [
    {
     "data": {
      "text/plain": [
       "-0.0015790565976871451"
      ]
     },
     "execution_count": 116,
     "metadata": {},
     "output_type": "execute_result"
    }
   ],
   "source": [
    "ab_diff = new_p['converted'].mean() - old_p['converted'].mean()\n",
    "ab_diff"
   ]
  },
  {
   "cell_type": "code",
   "execution_count": 90,
   "id": "13d5b5ed",
   "metadata": {},
   "outputs": [
    {
     "data": {
      "text/plain": [
       "array([0, 0, 0, ..., 0, 0, 1])"
      ]
     },
     "execution_count": 90,
     "metadata": {},
     "output_type": "execute_result"
    }
   ],
   "source": [
    "new_pc = np.random.choice([1, 0], size= len(new_p), p=(du2['converted'].mean(), (1- du2['converted'].mean())))\n",
    "new_pc"
   ]
  },
  {
   "cell_type": "code",
   "execution_count": 91,
   "id": "e3baf6b2",
   "metadata": {},
   "outputs": [
    {
     "data": {
      "text/plain": [
       "array([0, 0, 0, ..., 0, 0, 0])"
      ]
     },
     "execution_count": 91,
     "metadata": {},
     "output_type": "execute_result"
    }
   ],
   "source": [
    "old_pc = np.random.choice([1, 0], size= len(old_p), p=(du2['converted'].mean(), (1- du2['converted'].mean())))\n",
    "old_pc"
   ]
  },
  {
   "cell_type": "code",
   "execution_count": 92,
   "id": "dad8e192",
   "metadata": {},
   "outputs": [
    {
     "data": {
      "text/plain": [
       "0.11729325377982397"
      ]
     },
     "execution_count": 92,
     "metadata": {},
     "output_type": "execute_result"
    }
   ],
   "source": [
    "new_pc.mean()"
   ]
  },
  {
   "cell_type": "code",
   "execution_count": 93,
   "id": "8a01b170",
   "metadata": {},
   "outputs": [
    {
     "data": {
      "text/plain": [
       "0.12122609689276814"
      ]
     },
     "execution_count": 93,
     "metadata": {},
     "output_type": "execute_result"
    }
   ],
   "source": [
    "old_pc.mean()"
   ]
  },
  {
   "cell_type": "code",
   "execution_count": 94,
   "id": "f9fd457d",
   "metadata": {},
   "outputs": [
    {
     "data": {
      "text/plain": [
       "-0.003932843112944173"
      ]
     },
     "execution_count": 94,
     "metadata": {},
     "output_type": "execute_result"
    }
   ],
   "source": [
    "new_pc.mean() - old_pc.mean()"
   ]
  },
  {
   "cell_type": "code",
   "execution_count": 105,
   "id": "103b07d5",
   "metadata": {},
   "outputs": [],
   "source": [
    "new_pc1 = np.random.binomial(len(new_p), du2['converted'].mean(), 1000) / len(new_p)"
   ]
  },
  {
   "cell_type": "code",
   "execution_count": 104,
   "id": "30e73d77",
   "metadata": {},
   "outputs": [],
   "source": [
    "old_pc1 = np.random.binomial(len(old_p), du2['converted'].mean(), 1000) / len(old_p)"
   ]
  },
  {
   "cell_type": "code",
   "execution_count": 97,
   "id": "27fba8c7",
   "metadata": {},
   "outputs": [
    {
     "data": {
      "text/plain": [
       "0.11960733186062995"
      ]
     },
     "execution_count": 97,
     "metadata": {},
     "output_type": "execute_result"
    }
   ],
   "source": [
    "new_pc1.mean()"
   ]
  },
  {
   "cell_type": "code",
   "execution_count": 98,
   "id": "0fe5f407",
   "metadata": {},
   "outputs": [
    {
     "data": {
      "text/plain": [
       "0.1196001280339221"
      ]
     },
     "execution_count": 98,
     "metadata": {},
     "output_type": "execute_result"
    }
   ],
   "source": [
    "old_pc1.mean()"
   ]
  },
  {
   "cell_type": "code",
   "execution_count": 126,
   "id": "ebb62f47",
   "metadata": {},
   "outputs": [
    {
     "data": {
      "text/plain": [
       "-1.334382146320931e-05"
      ]
     },
     "execution_count": 126,
     "metadata": {},
     "output_type": "execute_result"
    }
   ],
   "source": [
    "np_diff = new_pc1 - old_pc1\n",
    "np_diff.mean()"
   ]
  },
  {
   "cell_type": "code",
   "execution_count": 127,
   "id": "5bfbabac",
   "metadata": {},
   "outputs": [
    {
     "data": {
      "text/plain": [
       "89.5"
      ]
     },
     "execution_count": 127,
     "metadata": {},
     "output_type": "execute_result"
    }
   ],
   "source": [
    "(np_diff > ab_diff).mean() * 100"
   ]
  },
  {
   "cell_type": "code",
   "execution_count": 128,
   "id": "f598960c",
   "metadata": {},
   "outputs": [
    {
     "data": {
      "text/plain": [
       "10.5"
      ]
     },
     "execution_count": 128,
     "metadata": {},
     "output_type": "execute_result"
    }
   ],
   "source": [
    "#p-value\n",
    "(np_diff < ab_diff).mean() * 100"
   ]
  },
  {
   "cell_type": "code",
   "execution_count": 123,
   "id": "d322b594",
   "metadata": {},
   "outputs": [
    {
     "data": {
      "text/plain": [
       "<matplotlib.lines.Line2D at 0x2135cd728e0>"
      ]
     },
     "execution_count": 123,
     "metadata": {},
     "output_type": "execute_result"
    },
    {
     "data": {
      "image/png": "[encoded data removed]",
      "text/plain": [
       "<Figure size 432x288 with 1 Axes>"
      ]
     },
     "metadata": {
      "needs_background": "light"
     },
     "output_type": "display_data"
    }
   ],
   "source": [
    "plt.hist(np_diff, bins=100)\n",
    "low= ab_diff\n",
    "high= np_diff.mean()\n",
    "plt.axvline(low, color='g')\n",
    "plt.axvline(high, color='r')"
   ]
  }
 ],
 "metadata": {
  "kernelspec": {
   "display_name": "Python 3 (ipykernel)",
   "language": "python",
   "name": "python3"
  },
  "language_info": {
   "codemirror_mode": {
    "name": "ipython",
    "version": 3
   },
   "file_extension": ".py",
   "mimetype": "text/x-python",
   "name": "python",
   "nbconvert_exporter": "python",
   "pygments_lexer": "ipython3",
   "version": "3.9.12"
  }
 },
 "nbformat": 4,
 "nbformat_minor": 5
}
