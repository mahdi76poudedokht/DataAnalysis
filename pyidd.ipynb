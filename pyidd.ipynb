{
 "cells": [
  {
   "cell_type": "code",
   "execution_count": 10,
   "metadata": {},
   "outputs": [],
   "source": [
    "import pyidd\n",
    "import pandas as pd\n",
    "from scipy.stats import norm, beta"
   ]
  },
  {
   "cell_type": "code",
   "execution_count": 11,
   "metadata": {},
   "outputs": [
    {
     "data": {
      "text/html": [
       "<div>\n",
       "<style scoped>\n",
       "    .dataframe tbody tr th:only-of-type {\n",
       "        vertical-align: middle;\n",
       "    }\n",
       "\n",
       "    .dataframe tbody tr th {\n",
       "        vertical-align: top;\n",
       "    }\n",
       "\n",
       "    .dataframe thead th {\n",
       "        text-align: right;\n",
       "    }\n",
       "</style>\n",
       "<table border=\"1\" class=\"dataframe\">\n",
       "  <thead>\n",
       "    <tr style=\"text-align: right;\">\n",
       "      <th></th>\n",
       "      <th>Gender</th>\n",
       "      <th>Height</th>\n",
       "      <th>Weight</th>\n",
       "    </tr>\n",
       "  </thead>\n",
       "  <tbody>\n",
       "    <tr>\n",
       "      <th>0</th>\n",
       "      <td>Male</td>\n",
       "      <td>73.847017</td>\n",
       "      <td>241.893563</td>\n",
       "    </tr>\n",
       "    <tr>\n",
       "      <th>1</th>\n",
       "      <td>Male</td>\n",
       "      <td>68.781904</td>\n",
       "      <td>162.310473</td>\n",
       "    </tr>\n",
       "    <tr>\n",
       "      <th>2</th>\n",
       "      <td>Male</td>\n",
       "      <td>74.110105</td>\n",
       "      <td>212.740856</td>\n",
       "    </tr>\n",
       "    <tr>\n",
       "      <th>3</th>\n",
       "      <td>Male</td>\n",
       "      <td>71.730978</td>\n",
       "      <td>220.042470</td>\n",
       "    </tr>\n",
       "    <tr>\n",
       "      <th>4</th>\n",
       "      <td>Male</td>\n",
       "      <td>69.881796</td>\n",
       "      <td>206.349801</td>\n",
       "    </tr>\n",
       "  </tbody>\n",
       "</table>\n",
       "</div>"
      ],
      "text/plain": [
       "  Gender     Height      Weight\n",
       "0   Male  73.847017  241.893563\n",
       "1   Male  68.781904  162.310473\n",
       "2   Male  74.110105  212.740856\n",
       "3   Male  71.730978  220.042470\n",
       "4   Male  69.881796  206.349801"
      ]
     },
     "execution_count": 11,
     "metadata": {},
     "output_type": "execute_result"
    }
   ],
   "source": [
    "whData = pd.read_csv('weight-height.csv')\n",
    "whData.head()"
   ]
  },
  {
   "cell_type": "code",
   "execution_count": 12,
   "metadata": {},
   "outputs": [
    {
     "data": {
      "text/plain": [
       "(5.958319408062067, 6.498169312519742, 52.87268950557022, 28.213574971918785)"
      ]
     },
     "execution_count": 12,
     "metadata": {},
     "output_type": "execute_result"
    }
   ],
   "source": [
    "beta.fit(whData['Height'])"
   ]
  },
  {
   "cell_type": "code",
   "execution_count": 13,
   "metadata": {},
   "outputs": [],
   "source": [
    "fd = pyidd.PyIDD(verbose=1)"
   ]
  },
  {
   "cell_type": "code",
   "execution_count": 14,
   "metadata": {},
   "outputs": [
    {
     "ename": "AttributeError",
     "evalue": "module 'scipy.stats' has no attribute 'frechet_r'",
     "output_type": "error",
     "traceback": [
      "\u001b[1;31m---------------------------------------------------------------------------\u001b[0m",
      "\u001b[1;31mAttributeError\u001b[0m                            Traceback (most recent call last)",
      "Input \u001b[1;32mIn [14]\u001b[0m, in \u001b[0;36m<cell line: 1>\u001b[1;34m()\u001b[0m\n\u001b[1;32m----> 1\u001b[0m fd \u001b[38;5;241m=\u001b[39m \u001b[43mfd\u001b[49m\u001b[38;5;241;43m.\u001b[39;49m\u001b[43mfit\u001b[49m\u001b[43m(\u001b[49m\u001b[43mwhData\u001b[49m\u001b[43m[\u001b[49m\u001b[38;5;124;43m'\u001b[39;49m\u001b[38;5;124;43mHeight\u001b[39;49m\u001b[38;5;124;43m'\u001b[39;49m\u001b[43m]\u001b[49m\u001b[43m)\u001b[49m\n",
      "File \u001b[1;32m~\\anaconda3\\lib\\site-packages\\pyidd\\main.py:61\u001b[0m, in \u001b[0;36mPyIDD.fit\u001b[1;34m(self, data)\u001b[0m\n\u001b[0;32m     53\u001b[0m x \u001b[38;5;241m=\u001b[39m (x \u001b[38;5;241m+\u001b[39m np\u001b[38;5;241m.\u001b[39mroll(x, \u001b[38;5;241m-\u001b[39m\u001b[38;5;241m1\u001b[39m))[:\u001b[38;5;241m-\u001b[39m\u001b[38;5;241m1\u001b[39m] \u001b[38;5;241m/\u001b[39m \u001b[38;5;241m2.0\u001b[39m\n\u001b[0;32m     54\u001b[0m \u001b[38;5;28mself\u001b[39m\u001b[38;5;241m.\u001b[39mx \u001b[38;5;241m=\u001b[39m x\n\u001b[0;32m     56\u001b[0m CDISTRIBUTIONS \u001b[38;5;241m=\u001b[39m [\n\u001b[0;32m     57\u001b[0m     st\u001b[38;5;241m.\u001b[39malpha, st\u001b[38;5;241m.\u001b[39manglit, st\u001b[38;5;241m.\u001b[39marcsine, st\u001b[38;5;241m.\u001b[39margus, st\u001b[38;5;241m.\u001b[39mbeta, st\u001b[38;5;241m.\u001b[39mbetaprime, st\u001b[38;5;241m.\u001b[39mbradford,\n\u001b[0;32m     58\u001b[0m     st\u001b[38;5;241m.\u001b[39mburr, st\u001b[38;5;241m.\u001b[39mburr12, st\u001b[38;5;241m.\u001b[39mcauchy, st\u001b[38;5;241m.\u001b[39mchi, st\u001b[38;5;241m.\u001b[39mchi2, st\u001b[38;5;241m.\u001b[39mcosine, st\u001b[38;5;241m.\u001b[39mcrystalball,\n\u001b[0;32m     59\u001b[0m     st\u001b[38;5;241m.\u001b[39mdgamma, st\u001b[38;5;241m.\u001b[39mdweibull, st\u001b[38;5;241m.\u001b[39merlang, st\u001b[38;5;241m.\u001b[39mexpon, st\u001b[38;5;241m.\u001b[39mexponnorm, st\u001b[38;5;241m.\u001b[39mexponweib,\n\u001b[0;32m     60\u001b[0m     st\u001b[38;5;241m.\u001b[39mexponpow, st\u001b[38;5;241m.\u001b[39mf, st\u001b[38;5;241m.\u001b[39mfatiguelife, st\u001b[38;5;241m.\u001b[39mfisk, st\u001b[38;5;241m.\u001b[39mfoldcauchy, st\u001b[38;5;241m.\u001b[39mfoldnorm,\n\u001b[1;32m---> 61\u001b[0m     \u001b[43mst\u001b[49m\u001b[38;5;241;43m.\u001b[39;49m\u001b[43mfrechet_r\u001b[49m, st\u001b[38;5;241m.\u001b[39mfrechet_l, st\u001b[38;5;241m.\u001b[39mgenlogistic, st\u001b[38;5;241m.\u001b[39mgennorm, st\u001b[38;5;241m.\u001b[39mgenpareto,\n\u001b[0;32m     62\u001b[0m     st\u001b[38;5;241m.\u001b[39mgenexpon, st\u001b[38;5;241m.\u001b[39mgenextreme, st\u001b[38;5;241m.\u001b[39mgausshyper, st\u001b[38;5;241m.\u001b[39mgamma, st\u001b[38;5;241m.\u001b[39mgengamma, st\u001b[38;5;241m.\u001b[39mgenhalflogistic,\n\u001b[0;32m     63\u001b[0m     st\u001b[38;5;241m.\u001b[39mgeninvgauss, st\u001b[38;5;241m.\u001b[39mgilbrat, st\u001b[38;5;241m.\u001b[39mgompertz, st\u001b[38;5;241m.\u001b[39mgumbel_r, st\u001b[38;5;241m.\u001b[39mgumbel_l, st\u001b[38;5;241m.\u001b[39mhalfcauchy,\n\u001b[0;32m     64\u001b[0m     st\u001b[38;5;241m.\u001b[39mhalflogistic, st\u001b[38;5;241m.\u001b[39mhalfnorm, st\u001b[38;5;241m.\u001b[39mhalfgennorm, st\u001b[38;5;241m.\u001b[39mhypsecant, st\u001b[38;5;241m.\u001b[39minvgamma, st\u001b[38;5;241m.\u001b[39minvgauss,\n\u001b[0;32m     65\u001b[0m     st\u001b[38;5;241m.\u001b[39minvweibull, st\u001b[38;5;241m.\u001b[39mjohnsonsb, st\u001b[38;5;241m.\u001b[39mjohnsonsu, st\u001b[38;5;241m.\u001b[39mkappa4, st\u001b[38;5;241m.\u001b[39mkappa3, st\u001b[38;5;241m.\u001b[39mksone, st\u001b[38;5;241m.\u001b[39mkstwo,\n\u001b[0;32m     66\u001b[0m     st\u001b[38;5;241m.\u001b[39mkstwobign, st\u001b[38;5;241m.\u001b[39mlaplace, st\u001b[38;5;241m.\u001b[39mlevy, st\u001b[38;5;241m.\u001b[39mlevy_l, st\u001b[38;5;241m.\u001b[39mlogistic, st\u001b[38;5;241m.\u001b[39mloggamma,\n\u001b[0;32m     67\u001b[0m     st\u001b[38;5;241m.\u001b[39mloglaplace, st\u001b[38;5;241m.\u001b[39mlognorm, st\u001b[38;5;241m.\u001b[39mloguniform, st\u001b[38;5;241m.\u001b[39mlomax, st\u001b[38;5;241m.\u001b[39mmaxwell, st\u001b[38;5;241m.\u001b[39mmielke, st\u001b[38;5;241m.\u001b[39mmoyal,\n\u001b[0;32m     68\u001b[0m     st\u001b[38;5;241m.\u001b[39mnakagami, st\u001b[38;5;241m.\u001b[39mncx2, st\u001b[38;5;241m.\u001b[39mncf, st\u001b[38;5;241m.\u001b[39mnct, st\u001b[38;5;241m.\u001b[39mnorm, st\u001b[38;5;241m.\u001b[39mnorminvgauss, st\u001b[38;5;241m.\u001b[39mpareto, st\u001b[38;5;241m.\u001b[39mpearson3,\n\u001b[0;32m     69\u001b[0m     st\u001b[38;5;241m.\u001b[39mpowerlaw, st\u001b[38;5;241m.\u001b[39mpowerlognorm, st\u001b[38;5;241m.\u001b[39mpowernorm, st\u001b[38;5;241m.\u001b[39mrdist, st\u001b[38;5;241m.\u001b[39mrayleigh, st\u001b[38;5;241m.\u001b[39mrice, st\u001b[38;5;241m.\u001b[39mrecipinvgauss,\n\u001b[0;32m     70\u001b[0m     st\u001b[38;5;241m.\u001b[39msemicircular, st\u001b[38;5;241m.\u001b[39mskewnorm, st\u001b[38;5;241m.\u001b[39mt, st\u001b[38;5;241m.\u001b[39mtrapz, st\u001b[38;5;241m.\u001b[39mtriang, st\u001b[38;5;241m.\u001b[39mtruncexpon, st\u001b[38;5;241m.\u001b[39mtruncnorm,\n\u001b[0;32m     71\u001b[0m     st\u001b[38;5;241m.\u001b[39mtukeylambda, st\u001b[38;5;241m.\u001b[39muniform, st\u001b[38;5;241m.\u001b[39mvonmises, st\u001b[38;5;241m.\u001b[39mvonmises_line, st\u001b[38;5;241m.\u001b[39mwald, st\u001b[38;5;241m.\u001b[39mweibull_min,\n\u001b[0;32m     72\u001b[0m     st\u001b[38;5;241m.\u001b[39mweibull_max, st\u001b[38;5;241m.\u001b[39mwrapcauchy\n\u001b[0;32m     73\u001b[0m ]\n\u001b[0;32m     75\u001b[0m best_distribution \u001b[38;5;241m=\u001b[39m st\u001b[38;5;241m.\u001b[39mnorm\n\u001b[0;32m     76\u001b[0m best_params \u001b[38;5;241m=\u001b[39m (\u001b[38;5;241m0.0\u001b[39m, \u001b[38;5;241m1.0\u001b[39m)\n",
      "\u001b[1;31mAttributeError\u001b[0m: module 'scipy.stats' has no attribute 'frechet_r'"
     ]
    }
   ],
   "source": [
    "fd = fd.fit(whData['Height'])"
   ]
  },
  {
   "cell_type": "code",
   "execution_count": 15,
   "metadata": {},
   "outputs": [
    {
     "ename": "Exception",
     "evalue": "You must first fit your data with .fit() function",
     "output_type": "error",
     "traceback": [
      "\u001b[1;31m---------------------------------------------------------------------------\u001b[0m",
      "\u001b[1;31mException\u001b[0m                                 Traceback (most recent call last)",
      "Input \u001b[1;32mIn [15]\u001b[0m, in \u001b[0;36m<cell line: 1>\u001b[1;34m()\u001b[0m\n\u001b[1;32m----> 1\u001b[0m \u001b[43mfd\u001b[49m\u001b[38;5;241;43m.\u001b[39;49m\u001b[43mplot\u001b[49m\u001b[43m(\u001b[49m\u001b[43mtop\u001b[49m\u001b[38;5;241;43m=\u001b[39;49m\u001b[38;5;241;43m15\u001b[39;49m\u001b[43m)\u001b[49m\n",
      "File \u001b[1;32m~\\anaconda3\\lib\\site-packages\\pyidd\\main.py:18\u001b[0m, in \u001b[0;36mPyIDD.plot\u001b[1;34m(self, bins, top, figsize)\u001b[0m\n\u001b[0;32m     16\u001b[0m \u001b[38;5;28;01mdef\u001b[39;00m \u001b[38;5;21mplot\u001b[39m(\u001b[38;5;28mself\u001b[39m, bins\u001b[38;5;241m=\u001b[39m\u001b[38;5;241m100\u001b[39m, top\u001b[38;5;241m=\u001b[39m\u001b[38;5;241m5\u001b[39m, figsize\u001b[38;5;241m=\u001b[39m(\u001b[38;5;241m16\u001b[39m, \u001b[38;5;241m12\u001b[39m)):\n\u001b[0;32m     17\u001b[0m     \u001b[38;5;28;01mif\u001b[39;00m \u001b[38;5;28mself\u001b[39m\u001b[38;5;241m.\u001b[39mfitted \u001b[38;5;241m==\u001b[39m \u001b[38;5;28;01mFalse\u001b[39;00m:\n\u001b[1;32m---> 18\u001b[0m         \u001b[38;5;28;01mraise\u001b[39;00m \u001b[38;5;167;01mException\u001b[39;00m(\u001b[38;5;124m'\u001b[39m\u001b[38;5;124mYou must first fit your data with .fit() function\u001b[39m\u001b[38;5;124m'\u001b[39m)\n\u001b[0;32m     20\u001b[0m     sd \u001b[38;5;241m=\u001b[39m \u001b[38;5;28msorted\u001b[39m(\u001b[38;5;28mself\u001b[39m\u001b[38;5;241m.\u001b[39mdistributions\u001b[38;5;241m.\u001b[39mitems(), key\u001b[38;5;241m=\u001b[39m\u001b[38;5;28;01mlambda\u001b[39;00m x: x[\u001b[38;5;241m1\u001b[39m][\u001b[38;5;124m'\u001b[39m\u001b[38;5;124mSSE\u001b[39m\u001b[38;5;124m'\u001b[39m])\n\u001b[0;32m     21\u001b[0m     ax \u001b[38;5;241m=\u001b[39m \u001b[38;5;28mself\u001b[39m\u001b[38;5;241m.\u001b[39mdata\u001b[38;5;241m.\u001b[39mplot(kind\u001b[38;5;241m=\u001b[39m\u001b[38;5;124m'\u001b[39m\u001b[38;5;124mhist\u001b[39m\u001b[38;5;124m'\u001b[39m, bins\u001b[38;5;241m=\u001b[39mbins, stacked\u001b[38;5;241m=\u001b[39m\u001b[38;5;28;01mTrue\u001b[39;00m, density\u001b[38;5;241m=\u001b[39m\u001b[38;5;28;01mTrue\u001b[39;00m, alpha\u001b[38;5;241m=\u001b[39m\u001b[38;5;241m0.5\u001b[39m, figsize\u001b[38;5;241m=\u001b[39mfigsize)\n",
      "\u001b[1;31mException\u001b[0m: You must first fit your data with .fit() function"
     ]
    }
   ],
   "source": [
    "fd.plot(top=15)"
   ]
  },
  {
   "cell_type": "code",
   "execution_count": null,
   "metadata": {},
   "outputs": [],
   "source": [
    "fd.get_distributions()"
   ]
  }
 ],
 "metadata": {
  "kernelspec": {
   "display_name": "Python 3 (ipykernel)",
   "language": "python",
   "name": "python3"
  },
  "language_info": {
   "codemirror_mode": {
    "name": "ipython",
    "version": 3
   },
   "file_extension": ".py",
   "mimetype": "text/x-python",
   "name": "python",
   "nbconvert_exporter": "python",
   "pygments_lexer": "ipython3",
   "version": "3.9.12"
  }
 },
 "nbformat": 4,
 "nbformat_minor": 4
}
