{
 "cells": [
  {
   "cell_type": "code",
   "execution_count": 29,
   "id": "3558b5d7",
   "metadata": {},
   "outputs": [],
   "source": [
    "import pandas as pd\n",
    "import matplotlib.pyplot as plt"
   ]
  },
  {
   "cell_type": "code",
   "execution_count": 121,
   "id": "40b73e14",
   "metadata": {},
   "outputs": [],
   "source": [
    "data = pd.read_csv('BTC-USD.csv')"
   ]
  },
  {
   "cell_type": "code",
   "execution_count": 31,
   "id": "e87b7b8b",
   "metadata": {},
   "outputs": [
    {
     "data": {
      "text/html": [
       "<div>\n",
       "<style scoped>\n",
       "    .dataframe tbody tr th:only-of-type {\n",
       "        vertical-align: middle;\n",
       "    }\n",
       "\n",
       "    .dataframe tbody tr th {\n",
       "        vertical-align: top;\n",
       "    }\n",
       "\n",
       "    .dataframe thead th {\n",
       "        text-align: right;\n",
       "    }\n",
       "</style>\n",
       "<table border=\"1\" class=\"dataframe\">\n",
       "  <thead>\n",
       "    <tr style=\"text-align: right;\">\n",
       "      <th></th>\n",
       "      <th>Date</th>\n",
       "      <th>Open</th>\n",
       "      <th>High</th>\n",
       "      <th>Low</th>\n",
       "      <th>Close</th>\n",
       "      <th>Adj Close</th>\n",
       "      <th>Volume</th>\n",
       "    </tr>\n",
       "  </thead>\n",
       "  <tbody>\n",
       "    <tr>\n",
       "      <th>0</th>\n",
       "      <td>2021-11-05</td>\n",
       "      <td>61460.078125</td>\n",
       "      <td>62541.468750</td>\n",
       "      <td>60844.609375</td>\n",
       "      <td>61125.675781</td>\n",
       "      <td>61125.675781</td>\n",
       "      <td>30605102446</td>\n",
       "    </tr>\n",
       "    <tr>\n",
       "      <th>1</th>\n",
       "      <td>2021-11-06</td>\n",
       "      <td>61068.875000</td>\n",
       "      <td>61590.683594</td>\n",
       "      <td>60163.781250</td>\n",
       "      <td>61527.480469</td>\n",
       "      <td>61527.480469</td>\n",
       "      <td>29094934221</td>\n",
       "    </tr>\n",
       "    <tr>\n",
       "      <th>2</th>\n",
       "      <td>2021-11-07</td>\n",
       "      <td>61554.921875</td>\n",
       "      <td>63326.988281</td>\n",
       "      <td>61432.488281</td>\n",
       "      <td>63326.988281</td>\n",
       "      <td>63326.988281</td>\n",
       "      <td>24726754302</td>\n",
       "    </tr>\n",
       "    <tr>\n",
       "      <th>3</th>\n",
       "      <td>2021-11-08</td>\n",
       "      <td>63344.066406</td>\n",
       "      <td>67673.742188</td>\n",
       "      <td>63344.066406</td>\n",
       "      <td>67566.828125</td>\n",
       "      <td>67566.828125</td>\n",
       "      <td>41125608330</td>\n",
       "    </tr>\n",
       "    <tr>\n",
       "      <th>4</th>\n",
       "      <td>2021-11-09</td>\n",
       "      <td>67549.734375</td>\n",
       "      <td>68530.335938</td>\n",
       "      <td>66382.062500</td>\n",
       "      <td>66971.828125</td>\n",
       "      <td>66971.828125</td>\n",
       "      <td>42357991721</td>\n",
       "    </tr>\n",
       "    <tr>\n",
       "      <th>...</th>\n",
       "      <td>...</td>\n",
       "      <td>...</td>\n",
       "      <td>...</td>\n",
       "      <td>...</td>\n",
       "      <td>...</td>\n",
       "      <td>...</td>\n",
       "      <td>...</td>\n",
       "    </tr>\n",
       "    <tr>\n",
       "      <th>361</th>\n",
       "      <td>2022-11-01</td>\n",
       "      <td>20494.898438</td>\n",
       "      <td>20647.289063</td>\n",
       "      <td>20359.845703</td>\n",
       "      <td>20485.273438</td>\n",
       "      <td>20485.273438</td>\n",
       "      <td>39819303159</td>\n",
       "    </tr>\n",
       "    <tr>\n",
       "      <th>362</th>\n",
       "      <td>2022-11-02</td>\n",
       "      <td>20482.958984</td>\n",
       "      <td>20742.810547</td>\n",
       "      <td>20087.134766</td>\n",
       "      <td>20159.503906</td>\n",
       "      <td>20159.503906</td>\n",
       "      <td>55552169483</td>\n",
       "    </tr>\n",
       "    <tr>\n",
       "      <th>363</th>\n",
       "      <td>2022-11-03</td>\n",
       "      <td>20162.689453</td>\n",
       "      <td>20382.095703</td>\n",
       "      <td>20086.240234</td>\n",
       "      <td>20209.988281</td>\n",
       "      <td>20209.988281</td>\n",
       "      <td>43228750179</td>\n",
       "    </tr>\n",
       "    <tr>\n",
       "      <th>364</th>\n",
       "      <td>2022-11-04</td>\n",
       "      <td>20208.769531</td>\n",
       "      <td>21209.560547</td>\n",
       "      <td>20188.019531</td>\n",
       "      <td>21147.230469</td>\n",
       "      <td>21147.230469</td>\n",
       "      <td>64072727950</td>\n",
       "    </tr>\n",
       "    <tr>\n",
       "      <th>365</th>\n",
       "      <td>2022-11-05</td>\n",
       "      <td>21144.832031</td>\n",
       "      <td>21446.886719</td>\n",
       "      <td>21097.634766</td>\n",
       "      <td>21282.691406</td>\n",
       "      <td>21282.691406</td>\n",
       "      <td>37846047609</td>\n",
       "    </tr>\n",
       "  </tbody>\n",
       "</table>\n",
       "<p>366 rows × 7 columns</p>\n",
       "</div>"
      ],
      "text/plain": [
       "           Date          Open          High           Low         Close  \\\n",
       "0    2021-11-05  61460.078125  62541.468750  60844.609375  61125.675781   \n",
       "1    2021-11-06  61068.875000  61590.683594  60163.781250  61527.480469   \n",
       "2    2021-11-07  61554.921875  63326.988281  61432.488281  63326.988281   \n",
       "3    2021-11-08  63344.066406  67673.742188  63344.066406  67566.828125   \n",
       "4    2021-11-09  67549.734375  68530.335938  66382.062500  66971.828125   \n",
       "..          ...           ...           ...           ...           ...   \n",
       "361  2022-11-01  20494.898438  20647.289063  20359.845703  20485.273438   \n",
       "362  2022-11-02  20482.958984  20742.810547  20087.134766  20159.503906   \n",
       "363  2022-11-03  20162.689453  20382.095703  20086.240234  20209.988281   \n",
       "364  2022-11-04  20208.769531  21209.560547  20188.019531  21147.230469   \n",
       "365  2022-11-05  21144.832031  21446.886719  21097.634766  21282.691406   \n",
       "\n",
       "        Adj Close       Volume  \n",
       "0    61125.675781  30605102446  \n",
       "1    61527.480469  29094934221  \n",
       "2    63326.988281  24726754302  \n",
       "3    67566.828125  41125608330  \n",
       "4    66971.828125  42357991721  \n",
       "..            ...          ...  \n",
       "361  20485.273438  39819303159  \n",
       "362  20159.503906  55552169483  \n",
       "363  20209.988281  43228750179  \n",
       "364  21147.230469  64072727950  \n",
       "365  21282.691406  37846047609  \n",
       "\n",
       "[366 rows x 7 columns]"
      ]
     },
     "execution_count": 31,
     "metadata": {},
     "output_type": "execute_result"
    }
   ],
   "source": [
    "data"
   ]
  },
  {
   "cell_type": "code",
   "execution_count": 126,
   "id": "772ef05e",
   "metadata": {},
   "outputs": [],
   "source": [
    "data['Date'] = data['Date'].apply(pd.to_datetime)"
   ]
  },
  {
   "cell_type": "code",
   "execution_count": 127,
   "id": "d224a5fc",
   "metadata": {},
   "outputs": [
    {
     "data": {
      "text/html": [
       "<div>\n",
       "<style scoped>\n",
       "    .dataframe tbody tr th:only-of-type {\n",
       "        vertical-align: middle;\n",
       "    }\n",
       "\n",
       "    .dataframe tbody tr th {\n",
       "        vertical-align: top;\n",
       "    }\n",
       "\n",
       "    .dataframe thead th {\n",
       "        text-align: right;\n",
       "    }\n",
       "</style>\n",
       "<table border=\"1\" class=\"dataframe\">\n",
       "  <thead>\n",
       "    <tr style=\"text-align: right;\">\n",
       "      <th></th>\n",
       "      <th>Open</th>\n",
       "      <th>High</th>\n",
       "      <th>Low</th>\n",
       "      <th>Close</th>\n",
       "      <th>Adj Close</th>\n",
       "      <th>Volume</th>\n",
       "    </tr>\n",
       "    <tr>\n",
       "      <th>Date</th>\n",
       "      <th></th>\n",
       "      <th></th>\n",
       "      <th></th>\n",
       "      <th></th>\n",
       "      <th></th>\n",
       "      <th></th>\n",
       "    </tr>\n",
       "  </thead>\n",
       "  <tbody>\n",
       "    <tr>\n",
       "      <th>2021-11-05</th>\n",
       "      <td>61460.078125</td>\n",
       "      <td>62541.468750</td>\n",
       "      <td>60844.609375</td>\n",
       "      <td>61125.675781</td>\n",
       "      <td>61125.675781</td>\n",
       "      <td>30605102446</td>\n",
       "    </tr>\n",
       "    <tr>\n",
       "      <th>2021-11-06</th>\n",
       "      <td>61068.875000</td>\n",
       "      <td>61590.683594</td>\n",
       "      <td>60163.781250</td>\n",
       "      <td>61527.480469</td>\n",
       "      <td>61527.480469</td>\n",
       "      <td>29094934221</td>\n",
       "    </tr>\n",
       "    <tr>\n",
       "      <th>2021-11-07</th>\n",
       "      <td>61554.921875</td>\n",
       "      <td>63326.988281</td>\n",
       "      <td>61432.488281</td>\n",
       "      <td>63326.988281</td>\n",
       "      <td>63326.988281</td>\n",
       "      <td>24726754302</td>\n",
       "    </tr>\n",
       "    <tr>\n",
       "      <th>2021-11-08</th>\n",
       "      <td>63344.066406</td>\n",
       "      <td>67673.742188</td>\n",
       "      <td>63344.066406</td>\n",
       "      <td>67566.828125</td>\n",
       "      <td>67566.828125</td>\n",
       "      <td>41125608330</td>\n",
       "    </tr>\n",
       "    <tr>\n",
       "      <th>2021-11-09</th>\n",
       "      <td>67549.734375</td>\n",
       "      <td>68530.335938</td>\n",
       "      <td>66382.062500</td>\n",
       "      <td>66971.828125</td>\n",
       "      <td>66971.828125</td>\n",
       "      <td>42357991721</td>\n",
       "    </tr>\n",
       "    <tr>\n",
       "      <th>...</th>\n",
       "      <td>...</td>\n",
       "      <td>...</td>\n",
       "      <td>...</td>\n",
       "      <td>...</td>\n",
       "      <td>...</td>\n",
       "      <td>...</td>\n",
       "    </tr>\n",
       "    <tr>\n",
       "      <th>2022-11-01</th>\n",
       "      <td>20494.898438</td>\n",
       "      <td>20647.289063</td>\n",
       "      <td>20359.845703</td>\n",
       "      <td>20485.273438</td>\n",
       "      <td>20485.273438</td>\n",
       "      <td>39819303159</td>\n",
       "    </tr>\n",
       "    <tr>\n",
       "      <th>2022-11-02</th>\n",
       "      <td>20482.958984</td>\n",
       "      <td>20742.810547</td>\n",
       "      <td>20087.134766</td>\n",
       "      <td>20159.503906</td>\n",
       "      <td>20159.503906</td>\n",
       "      <td>55552169483</td>\n",
       "    </tr>\n",
       "    <tr>\n",
       "      <th>2022-11-03</th>\n",
       "      <td>20162.689453</td>\n",
       "      <td>20382.095703</td>\n",
       "      <td>20086.240234</td>\n",
       "      <td>20209.988281</td>\n",
       "      <td>20209.988281</td>\n",
       "      <td>43228750179</td>\n",
       "    </tr>\n",
       "    <tr>\n",
       "      <th>2022-11-04</th>\n",
       "      <td>20208.769531</td>\n",
       "      <td>21209.560547</td>\n",
       "      <td>20188.019531</td>\n",
       "      <td>21147.230469</td>\n",
       "      <td>21147.230469</td>\n",
       "      <td>64072727950</td>\n",
       "    </tr>\n",
       "    <tr>\n",
       "      <th>2022-11-05</th>\n",
       "      <td>21144.832031</td>\n",
       "      <td>21446.886719</td>\n",
       "      <td>21097.634766</td>\n",
       "      <td>21282.691406</td>\n",
       "      <td>21282.691406</td>\n",
       "      <td>37846047609</td>\n",
       "    </tr>\n",
       "  </tbody>\n",
       "</table>\n",
       "<p>366 rows × 6 columns</p>\n",
       "</div>"
      ],
      "text/plain": [
       "                    Open          High           Low         Close  \\\n",
       "Date                                                                 \n",
       "2021-11-05  61460.078125  62541.468750  60844.609375  61125.675781   \n",
       "2021-11-06  61068.875000  61590.683594  60163.781250  61527.480469   \n",
       "2021-11-07  61554.921875  63326.988281  61432.488281  63326.988281   \n",
       "2021-11-08  63344.066406  67673.742188  63344.066406  67566.828125   \n",
       "2021-11-09  67549.734375  68530.335938  66382.062500  66971.828125   \n",
       "...                  ...           ...           ...           ...   \n",
       "2022-11-01  20494.898438  20647.289063  20359.845703  20485.273438   \n",
       "2022-11-02  20482.958984  20742.810547  20087.134766  20159.503906   \n",
       "2022-11-03  20162.689453  20382.095703  20086.240234  20209.988281   \n",
       "2022-11-04  20208.769531  21209.560547  20188.019531  21147.230469   \n",
       "2022-11-05  21144.832031  21446.886719  21097.634766  21282.691406   \n",
       "\n",
       "               Adj Close       Volume  \n",
       "Date                                   \n",
       "2021-11-05  61125.675781  30605102446  \n",
       "2021-11-06  61527.480469  29094934221  \n",
       "2021-11-07  63326.988281  24726754302  \n",
       "2021-11-08  67566.828125  41125608330  \n",
       "2021-11-09  66971.828125  42357991721  \n",
       "...                  ...          ...  \n",
       "2022-11-01  20485.273438  39819303159  \n",
       "2022-11-02  20159.503906  55552169483  \n",
       "2022-11-03  20209.988281  43228750179  \n",
       "2022-11-04  21147.230469  64072727950  \n",
       "2022-11-05  21282.691406  37846047609  \n",
       "\n",
       "[366 rows x 6 columns]"
      ]
     },
     "execution_count": 127,
     "metadata": {},
     "output_type": "execute_result"
    }
   ],
   "source": [
    "data.set_index('Date')"
   ]
  },
  {
   "cell_type": "code",
   "execution_count": 38,
   "id": "c37eb2c7",
   "metadata": {},
   "outputs": [
    {
     "name": "stdout",
     "output_type": "stream",
     "text": [
      "<class 'pandas.core.frame.DataFrame'>\n",
      "DatetimeIndex: 366 entries, 2021-11-05 to 2022-11-05\n",
      "Data columns (total 6 columns):\n",
      " #   Column     Non-Null Count  Dtype  \n",
      "---  ------     --------------  -----  \n",
      " 0   Open       366 non-null    float64\n",
      " 1   High       366 non-null    float64\n",
      " 2   Low        366 non-null    float64\n",
      " 3   Close      366 non-null    float64\n",
      " 4   Adj Close  366 non-null    float64\n",
      " 5   Volume     366 non-null    int64  \n",
      "dtypes: float64(5), int64(1)\n",
      "memory usage: 20.0 KB\n"
     ]
    }
   ],
   "source": [
    "data.info()"
   ]
  },
  {
   "cell_type": "code",
   "execution_count": 9,
   "id": "333b30d7",
   "metadata": {},
   "outputs": [
    {
     "data": {
      "image/png": "[encoded data removed]",
      "text/plain": [
       "<Figure size 432x288 with 1 Axes>"
      ]
     },
     "metadata": {
      "needs_background": "light"
     },
     "output_type": "display_data"
    }
   ],
   "source": [
    "data['Volume'].plot().figsize=(12, 5)"
   ]
  },
  {
   "cell_type": "code",
   "execution_count": 10,
   "id": "5cda37ab",
   "metadata": {},
   "outputs": [
    {
     "data": {
      "image/png": "[encoded data removed]",
      "text/plain": [
       "<Figure size 432x288 with 1 Axes>"
      ]
     },
     "metadata": {
      "needs_background": "light"
     },
     "output_type": "display_data"
    }
   ],
   "source": [
    "data['Close'].plot().figsize=(12, 5)"
   ]
  },
  {
   "cell_type": "code",
   "execution_count": 53,
   "id": "7a0236f0",
   "metadata": {},
   "outputs": [
    {
     "name": "stdout",
     "output_type": "stream",
     "text": [
      "<class 'pandas.core.frame.DataFrame'>\n",
      "DatetimeIndex: 366 entries, 2021-11-05 to 2022-11-05\n",
      "Data columns (total 6 columns):\n",
      " #   Column     Non-Null Count  Dtype  \n",
      "---  ------     --------------  -----  \n",
      " 0   Open       366 non-null    float64\n",
      " 1   High       366 non-null    float64\n",
      " 2   Low        366 non-null    float64\n",
      " 3   Close      366 non-null    float64\n",
      " 4   Adj Close  366 non-null    float64\n",
      " 5   Volume     366 non-null    int64  \n",
      "dtypes: float64(5), int64(1)\n",
      "memory usage: 20.0 KB\n"
     ]
    }
   ],
   "source": [
    "data.info()"
   ]
  },
  {
   "cell_type": "code",
   "execution_count": 47,
   "id": "b2475930",
   "metadata": {},
   "outputs": [
    {
     "data": {
      "text/plain": [
       "<AxesSubplot:xlabel='Date'>"
      ]
     },
     "execution_count": 47,
     "metadata": {},
     "output_type": "execute_result"
    },
    {
     "data": {
      "image/png": "[encoded data removed]",
      "text/plain": [
       "<Figure size 432x288 with 1 Axes>"
      ]
     },
     "metadata": {
      "needs_background": "light"
     },
     "output_type": "display_data"
    }
   ],
   "source": [
    "data.resample(rule='M').mean()['Volume'].plot()"
   ]
  },
  {
   "cell_type": "code",
   "execution_count": 63,
   "id": "4d3d5589",
   "metadata": {},
   "outputs": [
    {
     "data": {
      "text/html": [
       "<div>\n",
       "<style scoped>\n",
       "    .dataframe tbody tr th:only-of-type {\n",
       "        vertical-align: middle;\n",
       "    }\n",
       "\n",
       "    .dataframe tbody tr th {\n",
       "        vertical-align: top;\n",
       "    }\n",
       "\n",
       "    .dataframe thead th {\n",
       "        text-align: right;\n",
       "    }\n",
       "</style>\n",
       "<table border=\"1\" class=\"dataframe\">\n",
       "  <thead>\n",
       "    <tr style=\"text-align: right;\">\n",
       "      <th></th>\n",
       "      <th>Open</th>\n",
       "      <th>High</th>\n",
       "      <th>Low</th>\n",
       "      <th>Close</th>\n",
       "      <th>Adj Close</th>\n",
       "      <th>Volume</th>\n",
       "    </tr>\n",
       "    <tr>\n",
       "      <th>Date</th>\n",
       "      <th></th>\n",
       "      <th></th>\n",
       "      <th></th>\n",
       "      <th></th>\n",
       "      <th></th>\n",
       "      <th></th>\n",
       "    </tr>\n",
       "  </thead>\n",
       "  <tbody>\n",
       "    <tr>\n",
       "      <th>2021-11-05</th>\n",
       "      <td>61460.078125</td>\n",
       "      <td>62541.468750</td>\n",
       "      <td>60844.609375</td>\n",
       "      <td>61125.675781</td>\n",
       "      <td>61125.675781</td>\n",
       "      <td>30605102446</td>\n",
       "    </tr>\n",
       "    <tr>\n",
       "      <th>2021-11-06</th>\n",
       "      <td>61068.875000</td>\n",
       "      <td>61590.683594</td>\n",
       "      <td>60163.781250</td>\n",
       "      <td>61527.480469</td>\n",
       "      <td>61527.480469</td>\n",
       "      <td>29094934221</td>\n",
       "    </tr>\n",
       "    <tr>\n",
       "      <th>2021-11-07</th>\n",
       "      <td>61554.921875</td>\n",
       "      <td>63326.988281</td>\n",
       "      <td>61432.488281</td>\n",
       "      <td>63326.988281</td>\n",
       "      <td>63326.988281</td>\n",
       "      <td>24726754302</td>\n",
       "    </tr>\n",
       "    <tr>\n",
       "      <th>2021-11-08</th>\n",
       "      <td>63344.066406</td>\n",
       "      <td>67673.742188</td>\n",
       "      <td>63344.066406</td>\n",
       "      <td>67566.828125</td>\n",
       "      <td>67566.828125</td>\n",
       "      <td>41125608330</td>\n",
       "    </tr>\n",
       "    <tr>\n",
       "      <th>2021-11-09</th>\n",
       "      <td>67549.734375</td>\n",
       "      <td>68530.335938</td>\n",
       "      <td>66382.062500</td>\n",
       "      <td>66971.828125</td>\n",
       "      <td>66971.828125</td>\n",
       "      <td>42357991721</td>\n",
       "    </tr>\n",
       "    <tr>\n",
       "      <th>...</th>\n",
       "      <td>...</td>\n",
       "      <td>...</td>\n",
       "      <td>...</td>\n",
       "      <td>...</td>\n",
       "      <td>...</td>\n",
       "      <td>...</td>\n",
       "    </tr>\n",
       "    <tr>\n",
       "      <th>2022-11-01</th>\n",
       "      <td>20494.898438</td>\n",
       "      <td>20647.289063</td>\n",
       "      <td>20359.845703</td>\n",
       "      <td>20485.273438</td>\n",
       "      <td>20485.273438</td>\n",
       "      <td>39819303159</td>\n",
       "    </tr>\n",
       "    <tr>\n",
       "      <th>2022-11-02</th>\n",
       "      <td>20482.958984</td>\n",
       "      <td>20742.810547</td>\n",
       "      <td>20087.134766</td>\n",
       "      <td>20159.503906</td>\n",
       "      <td>20159.503906</td>\n",
       "      <td>55552169483</td>\n",
       "    </tr>\n",
       "    <tr>\n",
       "      <th>2022-11-03</th>\n",
       "      <td>20162.689453</td>\n",
       "      <td>20382.095703</td>\n",
       "      <td>20086.240234</td>\n",
       "      <td>20209.988281</td>\n",
       "      <td>20209.988281</td>\n",
       "      <td>43228750179</td>\n",
       "    </tr>\n",
       "    <tr>\n",
       "      <th>2022-11-04</th>\n",
       "      <td>20208.769531</td>\n",
       "      <td>21209.560547</td>\n",
       "      <td>20188.019531</td>\n",
       "      <td>21147.230469</td>\n",
       "      <td>21147.230469</td>\n",
       "      <td>64072727950</td>\n",
       "    </tr>\n",
       "    <tr>\n",
       "      <th>2022-11-05</th>\n",
       "      <td>21144.832031</td>\n",
       "      <td>21446.886719</td>\n",
       "      <td>21097.634766</td>\n",
       "      <td>21282.691406</td>\n",
       "      <td>21282.691406</td>\n",
       "      <td>37846047609</td>\n",
       "    </tr>\n",
       "  </tbody>\n",
       "</table>\n",
       "<p>366 rows × 6 columns</p>\n",
       "</div>"
      ],
      "text/plain": [
       "                    Open          High           Low         Close  \\\n",
       "Date                                                                 \n",
       "2021-11-05  61460.078125  62541.468750  60844.609375  61125.675781   \n",
       "2021-11-06  61068.875000  61590.683594  60163.781250  61527.480469   \n",
       "2021-11-07  61554.921875  63326.988281  61432.488281  63326.988281   \n",
       "2021-11-08  63344.066406  67673.742188  63344.066406  67566.828125   \n",
       "2021-11-09  67549.734375  68530.335938  66382.062500  66971.828125   \n",
       "...                  ...           ...           ...           ...   \n",
       "2022-11-01  20494.898438  20647.289063  20359.845703  20485.273438   \n",
       "2022-11-02  20482.958984  20742.810547  20087.134766  20159.503906   \n",
       "2022-11-03  20162.689453  20382.095703  20086.240234  20209.988281   \n",
       "2022-11-04  20208.769531  21209.560547  20188.019531  21147.230469   \n",
       "2022-11-05  21144.832031  21446.886719  21097.634766  21282.691406   \n",
       "\n",
       "               Adj Close       Volume  \n",
       "Date                                   \n",
       "2021-11-05  61125.675781  30605102446  \n",
       "2021-11-06  61527.480469  29094934221  \n",
       "2021-11-07  63326.988281  24726754302  \n",
       "2021-11-08  67566.828125  41125608330  \n",
       "2021-11-09  66971.828125  42357991721  \n",
       "...                  ...          ...  \n",
       "2022-11-01  20485.273438  39819303159  \n",
       "2022-11-02  20159.503906  55552169483  \n",
       "2022-11-03  20209.988281  43228750179  \n",
       "2022-11-04  21147.230469  64072727950  \n",
       "2022-11-05  21282.691406  37846047609  \n",
       "\n",
       "[366 rows x 6 columns]"
      ]
     },
     "execution_count": 63,
     "metadata": {},
     "output_type": "execute_result"
    }
   ],
   "source": [
    "data"
   ]
  },
  {
   "cell_type": "code",
   "execution_count": 90,
   "id": "bd7ca6e1",
   "metadata": {},
   "outputs": [
    {
     "data": {
      "text/plain": [
       "Date\n",
       "2021-10-31    AxesSubplot(0.125,0.125;0.775x0.755)\n",
       "2021-11-30    AxesSubplot(0.125,0.125;0.775x0.755)\n",
       "2021-12-31    AxesSubplot(0.125,0.125;0.775x0.755)\n",
       "2022-01-31    AxesSubplot(0.125,0.125;0.775x0.755)\n",
       "2022-02-28    AxesSubplot(0.125,0.125;0.775x0.755)\n",
       "2022-03-31    AxesSubplot(0.125,0.125;0.775x0.755)\n",
       "2022-04-30    AxesSubplot(0.125,0.125;0.775x0.755)\n",
       "2022-05-31    AxesSubplot(0.125,0.125;0.775x0.755)\n",
       "2022-06-30    AxesSubplot(0.125,0.125;0.775x0.755)\n",
       "2022-07-31    AxesSubplot(0.125,0.125;0.775x0.755)\n",
       "2022-08-31    AxesSubplot(0.125,0.125;0.775x0.755)\n",
       "2022-09-30    AxesSubplot(0.125,0.125;0.775x0.755)\n",
       "2022-10-31    AxesSubplot(0.125,0.125;0.775x0.755)\n",
       "Freq: M, Name: Volume, dtype: object"
      ]
     },
     "execution_count": 90,
     "metadata": {},
     "output_type": "execute_result"
    },
    {
     "data": {
      "image/png": "[encoded data removed]",
      "text/plain": [
       "<Figure size 432x288 with 1 Axes>"
      ]
     },
     "metadata": {
      "needs_background": "light"
     },
     "output_type": "display_data"
    }
   ],
   "source": [
    "data.resample('M', label='left')['Volume'].plot(kind='bar')"
   ]
  },
  {
   "cell_type": "code",
   "execution_count": 101,
   "id": "55e1be91",
   "metadata": {},
   "outputs": [
    {
     "data": {
      "text/plain": [
       "<AxesSubplot:xlabel='Date'>"
      ]
     },
     "execution_count": 101,
     "metadata": {},
     "output_type": "execute_result"
    },
    {
     "data": {
      "image/png": "[encoded data removed]",
      "text/plain": [
       "<Figure size 432x288 with 1 Axes>"
      ]
     },
     "metadata": {
      "needs_background": "light"
     },
     "output_type": "display_data"
    }
   ],
   "source": [
    "data['Volume'].plot(kind='bar')"
   ]
  },
  {
   "cell_type": "code",
   "execution_count": 138,
   "id": "c0dae78e",
   "metadata": {},
   "outputs": [
    {
     "data": {
      "text/plain": [
       "<AxesSubplot:ylabel='Volume'>"
      ]
     },
     "execution_count": 138,
     "metadata": {},
     "output_type": "execute_result"
    },
    {
     "data": {
      "image/png": "[encoded data removed]",
      "text/plain": [
       "<Figure size 432x288 with 1 Axes>"
      ]
     },
     "metadata": {},
     "output_type": "display_data"
    }
   ],
   "source": [
    "data.head().plot(kind= 'pie', x='Open', y='Volume')"
   ]
  }
 ],
 "metadata": {
  "kernelspec": {
   "display_name": "Python 3 (ipykernel)",
   "language": "python",
   "name": "python3"
  },
  "language_info": {
   "codemirror_mode": {
    "name": "ipython",
    "version": 3
   },
   "file_extension": ".py",
   "mimetype": "text/x-python",
   "name": "python",
   "nbconvert_exporter": "python",
   "pygments_lexer": "ipython3",
   "version": "3.9.12"
  }
 },
 "nbformat": 4,
 "nbformat_minor": 5
}
