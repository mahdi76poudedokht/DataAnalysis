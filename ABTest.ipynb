{
 "cells": [
  {
   "cell_type": "code",
   "execution_count": 1,
   "id": "97cba80c",
   "metadata": {},
   "outputs": [],
   "source": [
    "import numpy as np\n",
    "import seaborn as sns"
   ]
  },
  {
   "cell_type": "code",
   "execution_count": 2,
   "id": "33f84a6c",
   "metadata": {},
   "outputs": [],
   "source": [
    "#The amount of profit with web design A & web design B\n",
    "a = np.array([21, 19, 41, 31, 25, 18, 35, 17, 29, 24, 20, 33])\n",
    "b = np.array([20, 32, 25, 26, 19, 43, 30, 28, 34, 25, 36, 45])"
   ]
  },
  {
   "cell_type": "code",
   "execution_count": 3,
   "id": "651e6e2c",
   "metadata": {},
   "outputs": [
    {
     "data": {
      "text/plain": [
       "26.083333333333332"
      ]
     },
     "execution_count": 3,
     "metadata": {},
     "output_type": "execute_result"
    }
   ],
   "source": [
    "a.mean()"
   ]
  },
  {
   "cell_type": "code",
   "execution_count": 4,
   "id": "62d5cce7",
   "metadata": {},
   "outputs": [
    {
     "data": {
      "text/plain": [
       "30.25"
      ]
     },
     "execution_count": 4,
     "metadata": {},
     "output_type": "execute_result"
    }
   ],
   "source": [
    "b.mean()"
   ]
  },
  {
   "cell_type": "code",
   "execution_count": 5,
   "id": "c6f581a8",
   "metadata": {},
   "outputs": [
    {
     "data": {
      "text/plain": [
       "4.166666666666668"
      ]
     },
     "execution_count": 5,
     "metadata": {},
     "output_type": "execute_result"
    }
   ],
   "source": [
    "d = b.mean() - a.mean()\n",
    "d"
   ]
  },
  {
   "cell_type": "code",
   "execution_count": 6,
   "id": "f398a811",
   "metadata": {},
   "outputs": [
    {
     "data": {
      "text/plain": [
       "array([0., 0., 0., 0., 0., 0., 0., 0., 0., 0., 0., 0., 1., 1., 1., 1., 1.,\n",
       "       1., 1., 1., 1., 1., 1., 1.])"
      ]
     },
     "execution_count": 6,
     "metadata": {},
     "output_type": "execute_result"
    }
   ],
   "source": [
    "np.append(np.zeros(len(a)), np.ones(len(b)))"
   ]
  },
  {
   "cell_type": "code",
   "execution_count": 7,
   "id": "6d96b980",
   "metadata": {},
   "outputs": [],
   "source": [
    "data = np.array([\n",
    "    np.append(np.zeros(len(a)), np.ones(len(b))),\n",
    "    np.append(a, b)\n",
    "])"
   ]
  },
  {
   "cell_type": "code",
   "execution_count": 8,
   "id": "6e1899d1",
   "metadata": {},
   "outputs": [
    {
     "name": "stdout",
     "output_type": "stream",
     "text": [
      "[[ 0.  0.  0.  0.  0.  0.  0.  0.  0.  0.  0.  0.  1.  1.  1.  1.  1.  1.\n",
      "   1.  1.  1.  1.  1.  1.]\n",
      " [21. 19. 41. 31. 25. 18. 35. 17. 29. 24. 20. 33. 20. 32. 25. 26. 19. 43.\n",
      "  30. 28. 34. 25. 36. 45.]]\n"
     ]
    }
   ],
   "source": [
    "print(data)"
   ]
  },
  {
   "cell_type": "code",
   "execution_count": 9,
   "id": "7038cccd",
   "metadata": {},
   "outputs": [],
   "source": [
    "data_t = data.T"
   ]
  },
  {
   "cell_type": "code",
   "execution_count": 10,
   "id": "b4c9e2b8",
   "metadata": {},
   "outputs": [
    {
     "data": {
      "text/plain": [
       "array([[ 0., 21.],\n",
       "       [ 0., 19.],\n",
       "       [ 0., 41.],\n",
       "       [ 0., 31.],\n",
       "       [ 0., 25.],\n",
       "       [ 0., 18.],\n",
       "       [ 0., 35.],\n",
       "       [ 0., 17.],\n",
       "       [ 0., 29.],\n",
       "       [ 0., 24.],\n",
       "       [ 0., 20.],\n",
       "       [ 0., 33.],\n",
       "       [ 1., 20.],\n",
       "       [ 1., 32.],\n",
       "       [ 1., 25.],\n",
       "       [ 1., 26.],\n",
       "       [ 1., 19.],\n",
       "       [ 1., 43.],\n",
       "       [ 1., 30.],\n",
       "       [ 1., 28.],\n",
       "       [ 1., 34.],\n",
       "       [ 1., 25.],\n",
       "       [ 1., 36.],\n",
       "       [ 1., 45.]])"
      ]
     },
     "execution_count": 10,
     "metadata": {},
     "output_type": "execute_result"
    }
   ],
   "source": [
    "data_t"
   ]
  },
  {
   "cell_type": "code",
   "execution_count": 11,
   "id": "d7629f82",
   "metadata": {},
   "outputs": [],
   "source": [
    "np.random.shuffle(data_t[:, 0])"
   ]
  },
  {
   "cell_type": "code",
   "execution_count": 12,
   "id": "edab9e9a",
   "metadata": {},
   "outputs": [
    {
     "data": {
      "text/plain": [
       "array([[ 1., 21.],\n",
       "       [ 0., 19.],\n",
       "       [ 0., 41.],\n",
       "       [ 1., 31.],\n",
       "       [ 0., 25.],\n",
       "       [ 1., 18.],\n",
       "       [ 1., 35.],\n",
       "       [ 0., 17.],\n",
       "       [ 1., 29.],\n",
       "       [ 0., 24.],\n",
       "       [ 1., 20.],\n",
       "       [ 0., 33.],\n",
       "       [ 1., 20.],\n",
       "       [ 1., 32.],\n",
       "       [ 1., 25.],\n",
       "       [ 0., 26.],\n",
       "       [ 1., 19.],\n",
       "       [ 0., 43.],\n",
       "       [ 0., 30.],\n",
       "       [ 1., 28.],\n",
       "       [ 0., 34.],\n",
       "       [ 0., 25.],\n",
       "       [ 1., 36.],\n",
       "       [ 0., 45.]])"
      ]
     },
     "execution_count": 12,
     "metadata": {},
     "output_type": "execute_result"
    }
   ],
   "source": [
    "data_t"
   ]
  },
  {
   "cell_type": "code",
   "execution_count": 13,
   "id": "cf4a4de0",
   "metadata": {},
   "outputs": [
    {
     "data": {
      "text/plain": [
       "array([0, 1, 1, 1, 0, 0, 0, 1, 0, 1, 1, 1, 0, 0, 1, 0, 1, 1, 1, 1, 0, 0,\n",
       "       0, 0])"
      ]
     },
     "execution_count": 13,
     "metadata": {},
     "output_type": "execute_result"
    }
   ],
   "source": [
    "experiment_label = np.random.randint(0, 2, len(data_t))\n",
    "experiment_label"
   ]
  },
  {
   "cell_type": "code",
   "execution_count": 14,
   "id": "c779bebf",
   "metadata": {},
   "outputs": [],
   "source": [
    "experiment_data = np.array([\n",
    "    experiment_label,\n",
    "    np.append(a, b)\n",
    "])"
   ]
  },
  {
   "cell_type": "code",
   "execution_count": 15,
   "id": "60a0a871",
   "metadata": {},
   "outputs": [
    {
     "data": {
      "text/plain": [
       "array([[ 0,  1,  1,  1,  0,  0,  0,  1,  0,  1,  1,  1,  0,  0,  1,  0,\n",
       "         1,  1,  1,  1,  0,  0,  0,  0],\n",
       "       [21, 19, 41, 31, 25, 18, 35, 17, 29, 24, 20, 33, 20, 32, 25, 26,\n",
       "        19, 43, 30, 28, 34, 25, 36, 45]])"
      ]
     },
     "execution_count": 15,
     "metadata": {},
     "output_type": "execute_result"
    }
   ],
   "source": [
    "experiment_data"
   ]
  },
  {
   "cell_type": "code",
   "execution_count": 16,
   "id": "9eb052a9",
   "metadata": {},
   "outputs": [],
   "source": [
    "experiment_data_t = experiment_data.T"
   ]
  },
  {
   "cell_type": "code",
   "execution_count": 17,
   "id": "1b344519",
   "metadata": {},
   "outputs": [
    {
     "data": {
      "text/plain": [
       "array([[ 0, 21],\n",
       "       [ 1, 19],\n",
       "       [ 1, 41],\n",
       "       [ 1, 31],\n",
       "       [ 0, 25],\n",
       "       [ 0, 18],\n",
       "       [ 0, 35],\n",
       "       [ 1, 17],\n",
       "       [ 0, 29],\n",
       "       [ 1, 24],\n",
       "       [ 1, 20],\n",
       "       [ 1, 33],\n",
       "       [ 0, 20],\n",
       "       [ 0, 32],\n",
       "       [ 1, 25],\n",
       "       [ 0, 26],\n",
       "       [ 1, 19],\n",
       "       [ 1, 43],\n",
       "       [ 1, 30],\n",
       "       [ 1, 28],\n",
       "       [ 0, 34],\n",
       "       [ 0, 25],\n",
       "       [ 0, 36],\n",
       "       [ 0, 45]])"
      ]
     },
     "execution_count": 17,
     "metadata": {},
     "output_type": "execute_result"
    }
   ],
   "source": [
    "experiment_data_t\n"
   ]
  },
  {
   "cell_type": "code",
   "execution_count": 18,
   "id": "8c4f14c8",
   "metadata": {},
   "outputs": [
    {
     "data": {
      "text/plain": [
       "28.833333333333332"
      ]
     },
     "execution_count": 18,
     "metadata": {},
     "output_type": "execute_result"
    }
   ],
   "source": [
    "ma = experiment_data_t[experiment_data_t[:, 0] == 0][:, 1].mean()\n",
    "ma"
   ]
  },
  {
   "cell_type": "code",
   "execution_count": 19,
   "id": "007301f6",
   "metadata": {},
   "outputs": [
    {
     "data": {
      "text/plain": [
       "27.5"
      ]
     },
     "execution_count": 19,
     "metadata": {},
     "output_type": "execute_result"
    }
   ],
   "source": [
    "mb = experiment_data_t[experiment_data_t[:, 0] == 1][:, 1].mean()\n",
    "mb"
   ]
  },
  {
   "cell_type": "code",
   "execution_count": 21,
   "id": "d9ca50ed",
   "metadata": {},
   "outputs": [],
   "source": [
    "def sh_exp(N):\n",
    "    experiment_data_mean = np.empty([N, 1])\n",
    "    for times in np.arange(N):\n",
    "        experiment_label = np.random.randint(0, 2, len(data_t))\n",
    "        experiment_data = np.array([\n",
    "            experiment_label,\n",
    "            data_t[:, 1]\n",
    "        ]).T\n",
    "        experiment_data_mean[times] = experiment_data[experiment_data[:, 0] == 1][:, 1].mean() - experiment_data[experiment_data[:, 0] == 0][:, 1].mean()\n",
    "    return experiment_data_mean"
   ]
  },
  {
   "cell_type": "code",
   "execution_count": 28,
   "id": "4c227cda",
   "metadata": {},
   "outputs": [],
   "source": [
    "e = sh_exp(1000)"
   ]
  },
  {
   "cell_type": "code",
   "execution_count": 30,
   "id": "9fa0d457",
   "metadata": {},
   "outputs": [],
   "source": [
    "e1 = e[e >= d]"
   ]
  },
  {
   "cell_type": "code",
   "execution_count": 35,
   "id": "68322079",
   "metadata": {},
   "outputs": [
    {
     "data": {
      "text/plain": [
       "126"
      ]
     },
     "execution_count": 35,
     "metadata": {},
     "output_type": "execute_result"
    }
   ],
   "source": [
    "len(e1)"
   ]
  },
  {
   "cell_type": "code",
   "execution_count": 36,
   "id": "248f0eb6",
   "metadata": {},
   "outputs": [
    {
     "data": {
      "text/plain": [
       "<AxesSubplot:ylabel='Count'>"
      ]
     },
     "execution_count": 36,
     "metadata": {},
     "output_type": "execute_result"
    },
    {
     "data": {
      "image/png": "[encoded data removed]",
      "text/plain": [
       "<Figure size 432x288 with 1 Axes>"
      ]
     },
     "metadata": {
      "needs_background": "light"
     },
     "output_type": "display_data"
    }
   ],
   "source": [
    "sns.histplot(e)"
   ]
  }
 ],
 "metadata": {
  "kernelspec": {
   "display_name": "Python 3 (ipykernel)",
   "language": "python",
   "name": "python3"
  },
  "language_info": {
   "codemirror_mode": {
    "name": "ipython",
    "version": 3
   },
   "file_extension": ".py",
   "mimetype": "text/x-python",
   "name": "python",
   "nbconvert_exporter": "python",
   "pygments_lexer": "ipython3",
   "version": "3.9.12"
  }
 },
 "nbformat": 4,
 "nbformat_minor": 5
}
