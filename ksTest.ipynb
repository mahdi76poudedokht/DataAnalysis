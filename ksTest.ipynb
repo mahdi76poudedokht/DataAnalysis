{
 "cells": [
  {
   "cell_type": "code",
   "execution_count": 2,
   "id": "b7d69b6c",
   "metadata": {},
   "outputs": [
    {
     "ename": "ImportError",
     "evalue": "cannot import name 'pyidd' from 'pyidd' (C:\\Users\\Mahdi Poudeh\\anaconda3\\lib\\site-packages\\pyidd\\__init__.py)",
     "output_type": "error",
     "traceback": [
      "\u001b[1;31m---------------------------------------------------------------------------\u001b[0m",
      "\u001b[1;31mImportError\u001b[0m                               Traceback (most recent call last)",
      "Input \u001b[1;32mIn [2]\u001b[0m, in \u001b[0;36m<cell line: 6>\u001b[1;34m()\u001b[0m\n\u001b[0;32m      4\u001b[0m \u001b[38;5;28;01mfrom\u001b[39;00m \u001b[38;5;21;01mscipy\u001b[39;00m\u001b[38;5;21;01m.\u001b[39;00m\u001b[38;5;21;01mstats\u001b[39;00m \u001b[38;5;28;01mimport\u001b[39;00m kstest\n\u001b[0;32m      5\u001b[0m \u001b[38;5;28;01mimport\u001b[39;00m \u001b[38;5;21;01mmatplotlib\u001b[39;00m\u001b[38;5;21;01m.\u001b[39;00m\u001b[38;5;21;01mpyplot\u001b[39;00m \u001b[38;5;28;01mas\u001b[39;00m \u001b[38;5;21;01mplt\u001b[39;00m\n\u001b[1;32m----> 6\u001b[0m \u001b[38;5;28;01mfrom\u001b[39;00m \u001b[38;5;21;01mpyidd\u001b[39;00m \u001b[38;5;28;01mimport\u001b[39;00m pyidd\n",
      "\u001b[1;31mImportError\u001b[0m: cannot import name 'pyidd' from 'pyidd' (C:\\Users\\Mahdi Poudeh\\anaconda3\\lib\\site-packages\\pyidd\\__init__.py)"
     ]
    }
   ],
   "source": [
    "import pandas as pd\n",
    "import numpy as np\n",
    "from scipy.stats import norm\n",
    "from scipy.stats import kstest\n",
    "import matplotlib.pyplot as plt\n",
    "from pyidd import pyidd\n"
   ]
  },
  {
   "cell_type": "code",
   "execution_count": 2,
   "id": "7e59275d",
   "metadata": {},
   "outputs": [],
   "source": [
    "data = pd.read_csv('weight-height.csv')"
   ]
  },
  {
   "cell_type": "code",
   "execution_count": 3,
   "id": "8b28e47d",
   "metadata": {},
   "outputs": [
    {
     "data": {
      "text/html": [
       "<div>\n",
       "<style scoped>\n",
       "    .dataframe tbody tr th:only-of-type {\n",
       "        vertical-align: middle;\n",
       "    }\n",
       "\n",
       "    .dataframe tbody tr th {\n",
       "        vertical-align: top;\n",
       "    }\n",
       "\n",
       "    .dataframe thead th {\n",
       "        text-align: right;\n",
       "    }\n",
       "</style>\n",
       "<table border=\"1\" class=\"dataframe\">\n",
       "  <thead>\n",
       "    <tr style=\"text-align: right;\">\n",
       "      <th></th>\n",
       "      <th>Gender</th>\n",
       "      <th>Height</th>\n",
       "      <th>Weight</th>\n",
       "    </tr>\n",
       "  </thead>\n",
       "  <tbody>\n",
       "    <tr>\n",
       "      <th>0</th>\n",
       "      <td>Male</td>\n",
       "      <td>73.847017</td>\n",
       "      <td>241.893563</td>\n",
       "    </tr>\n",
       "    <tr>\n",
       "      <th>1</th>\n",
       "      <td>Male</td>\n",
       "      <td>68.781904</td>\n",
       "      <td>162.310473</td>\n",
       "    </tr>\n",
       "    <tr>\n",
       "      <th>2</th>\n",
       "      <td>Male</td>\n",
       "      <td>74.110105</td>\n",
       "      <td>212.740856</td>\n",
       "    </tr>\n",
       "    <tr>\n",
       "      <th>3</th>\n",
       "      <td>Male</td>\n",
       "      <td>71.730978</td>\n",
       "      <td>220.042470</td>\n",
       "    </tr>\n",
       "    <tr>\n",
       "      <th>4</th>\n",
       "      <td>Male</td>\n",
       "      <td>69.881796</td>\n",
       "      <td>206.349801</td>\n",
       "    </tr>\n",
       "  </tbody>\n",
       "</table>\n",
       "</div>"
      ],
      "text/plain": [
       "  Gender     Height      Weight\n",
       "0   Male  73.847017  241.893563\n",
       "1   Male  68.781904  162.310473\n",
       "2   Male  74.110105  212.740856\n",
       "3   Male  71.730978  220.042470\n",
       "4   Male  69.881796  206.349801"
      ]
     },
     "execution_count": 3,
     "metadata": {},
     "output_type": "execute_result"
    }
   ],
   "source": [
    "data.head()"
   ]
  },
  {
   "cell_type": "code",
   "execution_count": 7,
   "id": "6b78c201",
   "metadata": {},
   "outputs": [],
   "source": [
    "m_weight = data[data['Gender'] == 'Male']['Weight']\n",
    "f_weight = data[data['Gender'] == 'Female']['Weight']"
   ]
  },
  {
   "cell_type": "code",
   "execution_count": 8,
   "id": "1b938da4",
   "metadata": {},
   "outputs": [],
   "source": [
    "mcount, mdevision = np.histogram(m_weight, bins= 100)\n",
    "fcount, fdevision = np.histogram(f_weight, bins= 100)"
   ]
  },
  {
   "cell_type": "code",
   "execution_count": 21,
   "id": "a2334a0d",
   "metadata": {},
   "outputs": [
    {
     "data": {
      "text/plain": [
       "[<matplotlib.lines.Line2D at 0x1c6725ca100>]"
      ]
     },
     "execution_count": 21,
     "metadata": {},
     "output_type": "execute_result"
    },
    {
     "data": {
      "image/png": "[encoded data removed]",
      "text/plain": [
       "<Figure size 432x288 with 1 Axes>"
      ]
     },
     "metadata": {
      "needs_background": "light"
     },
     "output_type": "display_data"
    }
   ],
   "source": [
    "plt.plot(np.cumsum(mcount))\n",
    "plt.plot(np.cumsum(fcount))"
   ]
  },
  {
   "cell_type": "code",
   "execution_count": 9,
   "id": "2646a888",
   "metadata": {},
   "outputs": [
    {
     "data": {
      "text/plain": [
       "KstestResult(statistic=0.08, pvalue=0.9084105017744525)"
      ]
     },
     "execution_count": 9,
     "metadata": {},
     "output_type": "execute_result"
    }
   ],
   "source": [
    "kstest(mcount, fcount)"
   ]
  },
  {
   "cell_type": "code",
   "execution_count": 23,
   "id": "a638cb34",
   "metadata": {},
   "outputs": [
    {
     "data": {
      "text/plain": [
       "KstestResult(statistic=0.7772498680518207, pvalue=2.7581694811010425e-64)"
      ]
     },
     "execution_count": 23,
     "metadata": {},
     "output_type": "execute_result"
    }
   ],
   "source": [
    "kstest(mcount, 'norm')"
   ]
  },
  {
   "cell_type": "code",
   "execution_count": 24,
   "id": "76d7bbf5",
   "metadata": {},
   "outputs": [
    {
     "data": {
      "text/plain": [
       "KstestResult(statistic=0.8072498680518208, pvalue=4.024276610149565e-71)"
      ]
     },
     "execution_count": 24,
     "metadata": {},
     "output_type": "execute_result"
    }
   ],
   "source": [
    "kstest(fcount, 'norm')"
   ]
  },
  {
   "cell_type": "code",
   "execution_count": 25,
   "id": "87d278bd",
   "metadata": {},
   "outputs": [
    {
     "data": {
      "text/plain": [
       "187.0206206581929"
      ]
     },
     "execution_count": 25,
     "metadata": {},
     "output_type": "execute_result"
    }
   ],
   "source": [
    "m_weight.mean()"
   ]
  },
  {
   "cell_type": "code",
   "execution_count": 26,
   "id": "36530335",
   "metadata": {},
   "outputs": [
    {
     "data": {
      "text/plain": [
       "19.781154516763813"
      ]
     },
     "execution_count": 26,
     "metadata": {},
     "output_type": "execute_result"
    }
   ],
   "source": [
    "m_weight.std()"
   ]
  },
  {
   "cell_type": "code",
   "execution_count": 27,
   "id": "d651b886",
   "metadata": {},
   "outputs": [
    {
     "data": {
      "text/plain": [
       "135.8600930074687"
      ]
     },
     "execution_count": 27,
     "metadata": {},
     "output_type": "execute_result"
    }
   ],
   "source": [
    "f_weight.mean()"
   ]
  },
  {
   "cell_type": "code",
   "execution_count": 29,
   "id": "8f98d673",
   "metadata": {},
   "outputs": [
    {
     "data": {
      "text/plain": [
       "19.02246780531901"
      ]
     },
     "execution_count": 29,
     "metadata": {},
     "output_type": "execute_result"
    }
   ],
   "source": [
    "f_weight.std()"
   ]
  },
  {
   "cell_type": "code",
   "execution_count": 35,
   "id": "8b2c7066",
   "metadata": {},
   "outputs": [],
   "source": [
    "mideal = norm.rvs(loc= m_weight.mean(), scale= m_weight.std(), size= len(m_weight))\n",
    "m_count, m_devision = np.histogram(ideal, bins=100)\n",
    "\n",
    "mideal = norm.rvs(loc= f_weight.mean(), scale= f_weight.std(), size= len(f_weight))\n",
    "f_count, f_devision = np.histogram(ideal, bins=100)"
   ]
  },
  {
   "cell_type": "code",
   "execution_count": 36,
   "id": "c8cd12ca",
   "metadata": {},
   "outputs": [],
   "source": [
    "mcount, mdevision = np.histogram(m_weight, bins= 100)\n",
    "fcount, fdevision = np.histogram(f_weight, bins= 100)"
   ]
  },
  {
   "cell_type": "code",
   "execution_count": 37,
   "id": "a75bfa02",
   "metadata": {},
   "outputs": [
    {
     "data": {
      "text/plain": [
       "KstestResult(statistic=0.04, pvalue=0.999998821968263)"
      ]
     },
     "execution_count": 37,
     "metadata": {},
     "output_type": "execute_result"
    }
   ],
   "source": [
    "kstest(m_count, mcount)"
   ]
  },
  {
   "cell_type": "code",
   "execution_count": 38,
   "id": "5fdc44e6",
   "metadata": {},
   "outputs": [
    {
     "data": {
      "text/plain": [
       "KstestResult(statistic=0.07, pvalue=0.9684099261397212)"
      ]
     },
     "execution_count": 38,
     "metadata": {},
     "output_type": "execute_result"
    }
   ],
   "source": [
    "kstest(f_count, fcount)"
   ]
  },
  {
   "cell_type": "code",
   "execution_count": 43,
   "id": "8fc0da9a",
   "metadata": {},
   "outputs": [
    {
     "data": {
      "text/plain": [
       "[<matplotlib.lines.Line2D at 0x1c672767760>]"
      ]
     },
     "execution_count": 43,
     "metadata": {},
     "output_type": "execute_result"
    },
    {
     "data": {
      "image/png": "[encoded data removed]",
      "text/plain": [
       "<Figure size 432x288 with 1 Axes>"
      ]
     },
     "metadata": {
      "needs_background": "light"
     },
     "output_type": "display_data"
    }
   ],
   "source": [
    "plt.plot(np.cumsum(m_count))"
   ]
  },
  {
   "cell_type": "code",
   "execution_count": 44,
   "id": "b7845879",
   "metadata": {},
   "outputs": [
    {
     "data": {
      "text/plain": [
       "[<matplotlib.lines.Line2D at 0x1c6727cb8b0>]"
      ]
     },
     "execution_count": 44,
     "metadata": {},
     "output_type": "execute_result"
    },
    {
     "data": {
      "image/png": "[encoded data removed]",
      "text/plain": [
       "<Figure size 432x288 with 1 Axes>"
      ]
     },
     "metadata": {
      "needs_background": "light"
     },
     "output_type": "display_data"
    }
   ],
   "source": [
    "plt.plot(np.cumsum(f_count))"
   ]
  },
  {
   "cell_type": "code",
   "execution_count": 45,
   "id": "320fce8a",
   "metadata": {},
   "outputs": [
    {
     "data": {
      "text/plain": [
       "[<matplotlib.lines.Line2D at 0x1c67282cfd0>]"
      ]
     },
     "execution_count": 45,
     "metadata": {},
     "output_type": "execute_result"
    },
    {
     "data": {
      "image/png": "[encoded data removed]",
      "text/plain": [
       "<Figure size 432x288 with 1 Axes>"
      ]
     },
     "metadata": {
      "needs_background": "light"
     },
     "output_type": "display_data"
    }
   ],
   "source": [
    "plt.plot(np.cumsum(f_count))\n",
    "plt.plot(np.cumsum(m_count))"
   ]
  },
  {
   "cell_type": "code",
   "execution_count": 49,
   "id": "547c54c3",
   "metadata": {},
   "outputs": [
    {
     "data": {
      "text/plain": [
       "(array([  1.,   0.,   0.,   1.,   1.,   1.,   0.,   0.,   0.,   2.,   2.,\n",
       "          1.,   1.,   1.,   4.,   5.,   4.,   6.,  10.,  11.,  11.,  11.,\n",
       "         18.,  19.,  23.,  20.,  32.,  42.,  41.,  27.,  46.,  56.,  49.,\n",
       "         73.,  60.,  79.,  78.,  77.,  88.,  95.,  98., 109., 110., 133.,\n",
       "        115., 128., 133., 126., 138., 155., 146., 123., 156., 159., 140.,\n",
       "        136., 153., 130., 129., 122.,  96., 114., 102., 104.,  99.,  78.,\n",
       "         93.,  69.,  63.,  66.,  68.,  60.,  53.,  39.,  39.,  40.,  16.,\n",
       "         23.,  20.,  21.,  19.,  13.,  15.,   9.,   7.,   9.,   5.,   5.,\n",
       "          4.,   2.,   3.,   1.,   3.,   2.,   2.,   2.,   0.,   0.,   0.,\n",
       "          1.]),\n",
       " array([ 64.70012671,  66.07549758,  67.45086845,  68.82623932,\n",
       "         70.20161019,  71.57698106,  72.95235193,  74.3277228 ,\n",
       "         75.70309367,  77.07846455,  78.45383542,  79.82920629,\n",
       "         81.20457716,  82.57994803,  83.9553189 ,  85.33068977,\n",
       "         86.70606064,  88.08143151,  89.45680238,  90.83217325,\n",
       "         92.20754412,  93.58291499,  94.95828586,  96.33365673,\n",
       "         97.7090276 ,  99.08439847, 100.45976934, 101.83514021,\n",
       "        103.21051108, 104.58588195, 105.96125282, 107.33662369,\n",
       "        108.71199456, 110.08736543, 111.4627363 , 112.83810717,\n",
       "        114.21347804, 115.58884891, 116.96421978, 118.33959065,\n",
       "        119.71496152, 121.09033239, 122.46570326, 123.84107413,\n",
       "        125.216445  , 126.59181587, 127.96718675, 129.34255762,\n",
       "        130.71792849, 132.09329936, 133.46867023, 134.8440411 ,\n",
       "        136.21941197, 137.59478284, 138.97015371, 140.34552458,\n",
       "        141.72089545, 143.09626632, 144.47163719, 145.84700806,\n",
       "        147.22237893, 148.5977498 , 149.97312067, 151.34849154,\n",
       "        152.72386241, 154.09923328, 155.47460415, 156.84997502,\n",
       "        158.22534589, 159.60071676, 160.97608763, 162.3514585 ,\n",
       "        163.72682937, 165.10220024, 166.47757111, 167.85294198,\n",
       "        169.22831285, 170.60368372, 171.97905459, 173.35442546,\n",
       "        174.72979633, 176.1051672 , 177.48053807, 178.85590895,\n",
       "        180.23127982, 181.60665069, 182.98202156, 184.35739243,\n",
       "        185.7327633 , 187.10813417, 188.48350504, 189.85887591,\n",
       "        191.23424678, 192.60961765, 193.98498852, 195.36035939,\n",
       "        196.73573026, 198.11110113, 199.486472  , 200.86184287,\n",
       "        202.23721374]),\n",
       " <BarContainer object of 100 artists>)"
      ]
     },
     "execution_count": 49,
     "metadata": {},
     "output_type": "execute_result"
    },
    {
     "data": {
      "image/png": "[encoded data removed]",
      "text/plain": [
       "<Figure size 432x288 with 1 Axes>"
      ]
     },
     "metadata": {
      "needs_background": "light"
     },
     "output_type": "display_data"
    }
   ],
   "source": [
    "plt.hist(m_weight.sort_values(), bins= 100)\n",
    "plt.hist(f_weight.sort_values(), bins= 100)"
   ]
  },
  {
   "cell_type": "code",
   "execution_count": 54,
   "id": "4a15341b",
   "metadata": {},
   "outputs": [
    {
     "data": {
      "text/plain": [
       "0       112.902939\n",
       "1       117.803842\n",
       "2       119.242856\n",
       "3       121.338323\n",
       "4       122.680112\n",
       "           ...    \n",
       "4995    253.889004\n",
       "4996    254.209073\n",
       "4997    255.690835\n",
       "4998    255.863326\n",
       "4999    269.989699\n",
       "Name: Weight, Length: 5000, dtype: float64"
      ]
     },
     "execution_count": 54,
     "metadata": {},
     "output_type": "execute_result"
    }
   ],
   "source": [
    "m_weight.sort_values().reset_index(drop= True)"
   ]
  },
  {
   "cell_type": "code",
   "execution_count": 56,
   "id": "fb0b9bba",
   "metadata": {},
   "outputs": [
    {
     "data": {
      "text/plain": [
       "[<matplotlib.lines.Line2D at 0x1c67645b970>]"
      ]
     },
     "execution_count": 56,
     "metadata": {},
     "output_type": "execute_result"
    },
    {
     "data": {
      "image/png": "[encoded data removed]",
      "text/plain": [
       "<Figure size 432x288 with 1 Axes>"
      ]
     },
     "metadata": {
      "needs_background": "light"
     },
     "output_type": "display_data"
    }
   ],
   "source": [
    "plt.plot(m_weight.sort_values().reset_index(drop= True))\n",
    "plt.plot(f_weight.sort_values().reset_index(drop= True))"
   ]
  },
  {
   "cell_type": "code",
   "execution_count": 62,
   "id": "6aab33c0",
   "metadata": {},
   "outputs": [
    {
     "data": {
      "text/plain": [
       "[<matplotlib.lines.Line2D at 0x1c67656f430>]"
      ]
     },
     "execution_count": 62,
     "metadata": {},
     "output_type": "execute_result"
    },
    {
     "data": {
      "image/png": "[encoded data removed]",
      "text/plain": [
       "<Figure size 432x288 with 1 Axes>"
      ]
     },
     "metadata": {
      "needs_background": "light"
     },
     "output_type": "display_data"
    }
   ],
   "source": [
    "plt.plot(np.cumsum(m_weight.sort_values().reset_index(drop= True)))\n",
    "plt.plot(np.cumsum(f_weight.sort_values().reset_index(drop= True)))"
   ]
  },
  {
   "cell_type": "code",
   "execution_count": 64,
   "id": "310895c9",
   "metadata": {},
   "outputs": [],
   "source": [
    "nw_males = m_weight - m_weight.mean()\n",
    "nw_females = f_weight - f_weight.mean()"
   ]
  },
  {
   "cell_type": "code",
   "execution_count": 65,
   "id": "98b97d9a",
   "metadata": {},
   "outputs": [
    {
     "data": {
      "text/plain": [
       "(array([  1.,   0.,   0.,   1.,   1.,   1.,   0.,   0.,   0.,   2.,   2.,\n",
       "          1.,   1.,   1.,   4.,   5.,   4.,   6.,  10.,  11.,  11.,  11.,\n",
       "         18.,  19.,  23.,  20.,  32.,  42.,  41.,  27.,  46.,  56.,  49.,\n",
       "         73.,  60.,  79.,  78.,  77.,  88.,  95.,  98., 109., 110., 133.,\n",
       "        115., 128., 133., 126., 138., 155., 146., 123., 156., 159., 140.,\n",
       "        136., 153., 130., 129., 122.,  96., 114., 102., 104.,  99.,  78.,\n",
       "         93.,  69.,  63.,  66.,  68.,  60.,  53.,  39.,  39.,  40.,  16.,\n",
       "         23.,  20.,  21.,  19.,  13.,  15.,   9.,   7.,   9.,   5.,   5.,\n",
       "          4.,   2.,   3.,   1.,   3.,   2.,   2.,   2.,   0.,   0.,   0.,\n",
       "          1.]),\n",
       " array([-71.15996629, -69.78459542, -68.40922455, -67.03385368,\n",
       "        -65.65848281, -64.28311194, -62.90774107, -61.5323702 ,\n",
       "        -60.15699933, -58.78162846, -57.40625759, -56.03088672,\n",
       "        -54.65551585, -53.28014498, -51.90477411, -50.52940324,\n",
       "        -49.15403237, -47.7786615 , -46.40329063, -45.02791976,\n",
       "        -43.65254889, -42.27717802, -40.90180715, -39.52643628,\n",
       "        -38.15106541, -36.77569454, -35.40032367, -34.0249528 ,\n",
       "        -32.64958193, -31.27421106, -29.89884019, -28.52346932,\n",
       "        -27.14809845, -25.77272758, -24.39735671, -23.02198584,\n",
       "        -21.64661497, -20.27124409, -18.89587322, -17.52050235,\n",
       "        -16.14513148, -14.76976061, -13.39438974, -12.01901887,\n",
       "        -10.643648  ,  -9.26827713,  -7.89290626,  -6.51753539,\n",
       "         -5.14216452,  -3.76679365,  -2.39142278,  -1.01605191,\n",
       "          0.35931896,   1.73468983,   3.1100607 ,   4.48543157,\n",
       "          5.86080244,   7.23617331,   8.61154418,   9.98691505,\n",
       "         11.36228592,  12.73765679,  14.11302766,  15.48839853,\n",
       "         16.8637694 ,  18.23914027,  19.61451114,  20.98988201,\n",
       "         22.36525288,  23.74062375,  25.11599462,  26.49136549,\n",
       "         27.86673636,  29.24210723,  30.61747811,  31.99284898,\n",
       "         33.36821985,  34.74359072,  36.11896159,  37.49433246,\n",
       "         38.86970333,  40.2450742 ,  41.62044507,  42.99581594,\n",
       "         44.37118681,  45.74655768,  47.12192855,  48.49729942,\n",
       "         49.87267029,  51.24804116,  52.62341203,  53.9987829 ,\n",
       "         55.37415377,  56.74952464,  58.12489551,  59.50026638,\n",
       "         60.87563725,  62.25100812,  63.62637899,  65.00174986,\n",
       "         66.37712073]),\n",
       " <BarContainer object of 100 artists>)"
      ]
     },
     "execution_count": 65,
     "metadata": {},
     "output_type": "execute_result"
    },
    {
     "data": {
      "image/png": "[encoded data removed]",
      "text/plain": [
       "<Figure size 432x288 with 1 Axes>"
      ]
     },
     "metadata": {
      "needs_background": "light"
     },
     "output_type": "display_data"
    }
   ],
   "source": [
    "plt.hist(nw_males, bins= 100)\n",
    "plt.hist(nw_females, bins= 100)"
   ]
  }
 ],
 "metadata": {
  "kernelspec": {
   "display_name": "Python 3 (ipykernel)",
   "language": "python",
   "name": "python3"
  },
  "language_info": {
   "codemirror_mode": {
    "name": "ipython",
    "version": 3
   },
   "file_extension": ".py",
   "mimetype": "text/x-python",
   "name": "python",
   "nbconvert_exporter": "python",
   "pygments_lexer": "ipython3",
   "version": "3.9.12"
  }
 },
 "nbformat": 4,
 "nbformat_minor": 5
}
